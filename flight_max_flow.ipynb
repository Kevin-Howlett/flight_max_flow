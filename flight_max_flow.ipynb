{
  "nbformat": 4,
  "nbformat_minor": 0,
  "metadata": {
    "colab": {
      "name": "AlgoProj2_RedTeam.ipynb",
      "provenance": [],
      "collapsed_sections": []
    },
    "kernelspec": {
      "display_name": "Python 3",
      "name": "python3"
    }
  },
  "cells": [
    {
      "cell_type": "markdown",
      "metadata": {
        "id": "qLflAtkJs5SK"
      },
      "source": [
        ""
      ]
    },
    {
      "cell_type": "code",
      "metadata": {
        "id": "1X7Q74wns569"
      },
      "source": [
        "import pandas as pd\n",
        "import numpy as np\n",
        "import networkx as nx\n",
        "from networkx.algorithms.flow import edmonds_karp"
      ],
      "execution_count": null,
      "outputs": []
    },
    {
      "cell_type": "code",
      "metadata": {
        "colab": {
          "base_uri": "https://localhost:8080/"
        },
        "id": "i63rH8mOIbII",
        "outputId": "35824b83-7c38-46d3-9dbb-9e9ffe57a8ad"
      },
      "source": [
        "from google.colab import drive\n",
        "drive.mount('/content/drive')"
      ],
      "execution_count": 2,
      "outputs": [
        {
          "output_type": "stream",
          "text": [
            "Mounted at /content/drive\n"
          ],
          "name": "stdout"
        }
      ]
    },
    {
      "cell_type": "markdown",
      "metadata": {
        "id": "S_RvWBzwJ_Wp"
      },
      "source": [
        ""
      ]
    },
    {
      "cell_type": "markdown",
      "metadata": {
        "id": "e9NmZEst7IQl"
      },
      "source": [
        "# Data Wrangling\n",
        "\n",
        "In order to build a proper flow network, we need 3 things:\n",
        "- Vertices (airports)\n",
        "- Edges (routes)\n",
        "- Capacities of edges (# of seats on route)\n",
        "\n",
        "The data needed to construct the vertices and edges are supplied in the files read below; however, the *capacities* will need to be assigned to the routed using the data provided in these files.\n",
        "\n",
        "Since these capacities are determined by the number of seats that can be booked on a given *route*, we will have to find a way to pair the **Equipment** data in the last column of the `routesDF` with the three digit IATA codes in the 2nd column of the `planesDF`."
      ]
    },
    {
      "cell_type": "code",
      "metadata": {
        "id": "4spXxXOuLdFs"
      },
      "source": [
        "pathToFile = \"/content/drive/MyDrive/AlgoProj2_Files\"\n",
        "\n",
        "zDF = pd.read_csv(f\"{pathToFile}/routes.dat.txt\", header=None  )\n",
        "planesDF = pd.read_csv(f\"{pathToFile}/planes.dat.txt\", header = None)\n",
        "planesDF.columns = [\"Airplane\",\"IATA\",\"ICAO\"]\n",
        "routesDF = pd.read_csv(f\"{pathToFile}/routes.dat.txt\", header = None)\n",
        "routesDF.columns = [\"Airline Code\", \"AirlineID\", \"Source\", \"SourceID\", \"Destination\", \"DestinationID\", \"cShare\", \"NumStops\", \"Equipment\"]"
      ],
      "execution_count": null,
      "outputs": []
    },
    {
      "cell_type": "code",
      "metadata": {
        "colab": {
          "base_uri": "https://localhost:8080/",
          "height": 204
        },
        "id": "4fOqx_x89S3k",
        "outputId": "a13b391b-f429-4058-ec1f-b9bc4644292d"
      },
      "source": [
        "planesDF.shape\n",
        "planesDF.head()"
      ],
      "execution_count": null,
      "outputs": [
        {
          "output_type": "execute_result",
          "data": {
            "text/html": [
              "<div>\n",
              "<style scoped>\n",
              "    .dataframe tbody tr th:only-of-type {\n",
              "        vertical-align: middle;\n",
              "    }\n",
              "\n",
              "    .dataframe tbody tr th {\n",
              "        vertical-align: top;\n",
              "    }\n",
              "\n",
              "    .dataframe thead th {\n",
              "        text-align: right;\n",
              "    }\n",
              "</style>\n",
              "<table border=\"1\" class=\"dataframe\">\n",
              "  <thead>\n",
              "    <tr style=\"text-align: right;\">\n",
              "      <th></th>\n",
              "      <th>Airplane</th>\n",
              "      <th>IATA</th>\n",
              "      <th>ICAO</th>\n",
              "    </tr>\n",
              "  </thead>\n",
              "  <tbody>\n",
              "    <tr>\n",
              "      <th>0</th>\n",
              "      <td>Aerospatiale (Nord) 262</td>\n",
              "      <td>ND2</td>\n",
              "      <td>N262</td>\n",
              "    </tr>\n",
              "    <tr>\n",
              "      <th>1</th>\n",
              "      <td>Aerospatiale (Sud Aviation) Se.210 Caravelle</td>\n",
              "      <td>CRV</td>\n",
              "      <td>S210</td>\n",
              "    </tr>\n",
              "    <tr>\n",
              "      <th>2</th>\n",
              "      <td>Aerospatiale SN.601 Corvette</td>\n",
              "      <td>NDC</td>\n",
              "      <td>S601</td>\n",
              "    </tr>\n",
              "    <tr>\n",
              "      <th>3</th>\n",
              "      <td>Aerospatiale/Alenia ATR 42-300</td>\n",
              "      <td>AT4</td>\n",
              "      <td>AT43</td>\n",
              "    </tr>\n",
              "    <tr>\n",
              "      <th>4</th>\n",
              "      <td>Aerospatiale/Alenia ATR 42-500</td>\n",
              "      <td>AT5</td>\n",
              "      <td>AT45</td>\n",
              "    </tr>\n",
              "  </tbody>\n",
              "</table>\n",
              "</div>"
            ],
            "text/plain": [
              "                                       Airplane IATA  ICAO\n",
              "0                       Aerospatiale (Nord) 262  ND2  N262\n",
              "1  Aerospatiale (Sud Aviation) Se.210 Caravelle  CRV  S210\n",
              "2                  Aerospatiale SN.601 Corvette  NDC  S601\n",
              "3                Aerospatiale/Alenia ATR 42-300  AT4  AT43\n",
              "4                Aerospatiale/Alenia ATR 42-500  AT5  AT45"
            ]
          },
          "metadata": {
            "tags": []
          },
          "execution_count": 6
        }
      ]
    },
    {
      "cell_type": "code",
      "metadata": {
        "colab": {
          "base_uri": "https://localhost:8080/",
          "height": 204
        },
        "id": "9INxOnl6NquE",
        "outputId": "39849e0f-ce26-4290-9933-ffbadf555536"
      },
      "source": [
        "routesDF.shape\n",
        "routesDF.head()"
      ],
      "execution_count": null,
      "outputs": [
        {
          "output_type": "execute_result",
          "data": {
            "text/html": [
              "<div>\n",
              "<style scoped>\n",
              "    .dataframe tbody tr th:only-of-type {\n",
              "        vertical-align: middle;\n",
              "    }\n",
              "\n",
              "    .dataframe tbody tr th {\n",
              "        vertical-align: top;\n",
              "    }\n",
              "\n",
              "    .dataframe thead th {\n",
              "        text-align: right;\n",
              "    }\n",
              "</style>\n",
              "<table border=\"1\" class=\"dataframe\">\n",
              "  <thead>\n",
              "    <tr style=\"text-align: right;\">\n",
              "      <th></th>\n",
              "      <th>Airline Code</th>\n",
              "      <th>AirlineID</th>\n",
              "      <th>Source</th>\n",
              "      <th>SourceID</th>\n",
              "      <th>Destination</th>\n",
              "      <th>DestinationID</th>\n",
              "      <th>cShare</th>\n",
              "      <th>NumStops</th>\n",
              "      <th>Equipment</th>\n",
              "    </tr>\n",
              "  </thead>\n",
              "  <tbody>\n",
              "    <tr>\n",
              "      <th>0</th>\n",
              "      <td>2B</td>\n",
              "      <td>410</td>\n",
              "      <td>AER</td>\n",
              "      <td>2965</td>\n",
              "      <td>KZN</td>\n",
              "      <td>2990</td>\n",
              "      <td>NaN</td>\n",
              "      <td>0</td>\n",
              "      <td>CR2</td>\n",
              "    </tr>\n",
              "    <tr>\n",
              "      <th>1</th>\n",
              "      <td>2B</td>\n",
              "      <td>410</td>\n",
              "      <td>ASF</td>\n",
              "      <td>2966</td>\n",
              "      <td>KZN</td>\n",
              "      <td>2990</td>\n",
              "      <td>NaN</td>\n",
              "      <td>0</td>\n",
              "      <td>CR2</td>\n",
              "    </tr>\n",
              "    <tr>\n",
              "      <th>2</th>\n",
              "      <td>2B</td>\n",
              "      <td>410</td>\n",
              "      <td>ASF</td>\n",
              "      <td>2966</td>\n",
              "      <td>MRV</td>\n",
              "      <td>2962</td>\n",
              "      <td>NaN</td>\n",
              "      <td>0</td>\n",
              "      <td>CR2</td>\n",
              "    </tr>\n",
              "    <tr>\n",
              "      <th>3</th>\n",
              "      <td>2B</td>\n",
              "      <td>410</td>\n",
              "      <td>CEK</td>\n",
              "      <td>2968</td>\n",
              "      <td>KZN</td>\n",
              "      <td>2990</td>\n",
              "      <td>NaN</td>\n",
              "      <td>0</td>\n",
              "      <td>CR2</td>\n",
              "    </tr>\n",
              "    <tr>\n",
              "      <th>4</th>\n",
              "      <td>2B</td>\n",
              "      <td>410</td>\n",
              "      <td>CEK</td>\n",
              "      <td>2968</td>\n",
              "      <td>OVB</td>\n",
              "      <td>4078</td>\n",
              "      <td>NaN</td>\n",
              "      <td>0</td>\n",
              "      <td>CR2</td>\n",
              "    </tr>\n",
              "  </tbody>\n",
              "</table>\n",
              "</div>"
            ],
            "text/plain": [
              "  Airline Code AirlineID Source  ... cShare NumStops Equipment\n",
              "0           2B       410    AER  ...    NaN        0       CR2\n",
              "1           2B       410    ASF  ...    NaN        0       CR2\n",
              "2           2B       410    ASF  ...    NaN        0       CR2\n",
              "3           2B       410    CEK  ...    NaN        0       CR2\n",
              "4           2B       410    CEK  ...    NaN        0       CR2\n",
              "\n",
              "[5 rows x 9 columns]"
            ]
          },
          "metadata": {
            "tags": []
          },
          "execution_count": 7
        }
      ]
    },
    {
      "cell_type": "markdown",
      "metadata": {
        "id": "w_zXhqM78Kyd"
      },
      "source": [
        "## Removing NAs\n",
        "\n",
        "Prior to associating capacities, it will be beneficial to reduce our `planesDF` to a dataframe that contains only the information relevant to our `routesDF` data.\n",
        "\n",
        "To do this, we extract the rows from `planesDF` that have IATA codes in the Equipment column of the `routesDF`. In addition to reducing our data to only those values relevant to our project, this code will also remove any NAs (encoded as `\\N`) from our dataset.  "
      ]
    },
    {
      "cell_type": "code",
      "metadata": {
        "colab": {
          "base_uri": "https://localhost:8080/"
        },
        "id": "E-0-EMzqFSu3",
        "outputId": "e7382035-f24c-400a-be41-94ac89b22b84"
      },
      "source": [
        "planesDF[planesDF['IATA'].isin(routesDF['Equipment'])].shape"
      ],
      "execution_count": null,
      "outputs": [
        {
          "output_type": "execute_result",
          "data": {
            "text/plain": [
              "(126, 3)"
            ]
          },
          "metadata": {
            "tags": []
          },
          "execution_count": 8
        }
      ]
    },
    {
      "cell_type": "markdown",
      "metadata": {
        "id": "4pFHOWBJdkt8"
      },
      "source": [
        "## Reducing Multiple\n",
        "\n",
        "Certain rows in the routesDF data contain multiple entries for equipment, separated by spaces. Since we want one capacity for each route, we need a way of reducing the values into one, which represents the capacity of this connection.\n",
        "\n",
        "There are three ways of approaching this:\n",
        "- Min\n",
        "  - Use the smallest capacity for the route\n",
        "- Avg\n",
        "  - Use the average of equipment capacities\n",
        "- Max\n",
        "  - Use the largest capacity for the route"
      ]
    },
    {
      "cell_type": "markdown",
      "metadata": {
        "id": "1q4iv9YyIuPn"
      },
      "source": [
        "## Attaching Capacities\n",
        "\n",
        "Unsure of how to derive it from the data set supplied with the assignment, we set out to find supplementary datasets that may contain the information we need.\n",
        "\n",
        "http://www.lsv.fr/~sirangel/teaching/dataset/aircrafts.txt"
      ]
    },
    {
      "cell_type": "code",
      "metadata": {
        "id": "-lxo3lEEMtHz"
      },
      "source": [
        "aircraftsDF = pd.read_csv(f\"{pathToFile}/aircrafts.txt\", header = None, delimiter= ';')"
      ],
      "execution_count": null,
      "outputs": []
    },
    {
      "cell_type": "code",
      "metadata": {
        "colab": {
          "base_uri": "https://localhost:8080/",
          "height": 204
        },
        "id": "B-5KJZqbMys5",
        "outputId": "960fdb3a-6eb6-4496-a6fe-2c8ecef1442f"
      },
      "source": [
        "aircraftsDF.columns = [\"Airplane\",\"ICAO\",\"Equipment\", \"Capacity\", \"Country\"]\n",
        "aircraftsDF.head()"
      ],
      "execution_count": null,
      "outputs": [
        {
          "output_type": "execute_result",
          "data": {
            "text/html": [
              "<div>\n",
              "<style scoped>\n",
              "    .dataframe tbody tr th:only-of-type {\n",
              "        vertical-align: middle;\n",
              "    }\n",
              "\n",
              "    .dataframe tbody tr th {\n",
              "        vertical-align: top;\n",
              "    }\n",
              "\n",
              "    .dataframe thead th {\n",
              "        text-align: right;\n",
              "    }\n",
              "</style>\n",
              "<table border=\"1\" class=\"dataframe\">\n",
              "  <thead>\n",
              "    <tr style=\"text-align: right;\">\n",
              "      <th></th>\n",
              "      <th>Airplane</th>\n",
              "      <th>ICAO</th>\n",
              "      <th>Equipment</th>\n",
              "      <th>Capacity</th>\n",
              "      <th>Country</th>\n",
              "    </tr>\n",
              "  </thead>\n",
              "  <tbody>\n",
              "    <tr>\n",
              "      <th>0</th>\n",
              "      <td>Aerospatiale/Alenia ATR 42-300 / 320</td>\n",
              "      <td>AT43</td>\n",
              "      <td>AT4</td>\n",
              "      <td>50</td>\n",
              "      <td>France</td>\n",
              "    </tr>\n",
              "    <tr>\n",
              "      <th>1</th>\n",
              "      <td>Aerospatiale/Alenia ATR 42-500</td>\n",
              "      <td>AT45</td>\n",
              "      <td>AT5</td>\n",
              "      <td>50</td>\n",
              "      <td>France</td>\n",
              "    </tr>\n",
              "    <tr>\n",
              "      <th>2</th>\n",
              "      <td>Aerospatiale/Alenia ATR 42/ ATR 72</td>\n",
              "      <td>\\N</td>\n",
              "      <td>ATR</td>\n",
              "      <td>74</td>\n",
              "      <td>France</td>\n",
              "    </tr>\n",
              "    <tr>\n",
              "      <th>3</th>\n",
              "      <td>Aerospatiale/Alenia ATR 72</td>\n",
              "      <td>AT72</td>\n",
              "      <td>AT7</td>\n",
              "      <td>74</td>\n",
              "      <td>France</td>\n",
              "    </tr>\n",
              "    <tr>\n",
              "      <th>4</th>\n",
              "      <td>Aerospatiale/BAC Concorde</td>\n",
              "      <td>CONC</td>\n",
              "      <td>SSC</td>\n",
              "      <td>128</td>\n",
              "      <td>France</td>\n",
              "    </tr>\n",
              "  </tbody>\n",
              "</table>\n",
              "</div>"
            ],
            "text/plain": [
              "                               Airplane  ICAO Equipment Capacity Country\n",
              "0  Aerospatiale/Alenia ATR 42-300 / 320  AT43       AT4       50  France\n",
              "1        Aerospatiale/Alenia ATR 42-500  AT45       AT5       50  France\n",
              "2    Aerospatiale/Alenia ATR 42/ ATR 72    \\N       ATR       74  France\n",
              "3            Aerospatiale/Alenia ATR 72  AT72       AT7       74  France\n",
              "4             Aerospatiale/BAC Concorde  CONC       SSC      128  France"
            ]
          },
          "metadata": {
            "tags": []
          },
          "execution_count": 10
        }
      ]
    },
    {
      "cell_type": "markdown",
      "metadata": {
        "id": "dAu0uICsVnF0"
      },
      "source": [
        "Next, we need attach the seating capacity from `aircraftsDF` to the `routesDF` data using `pd.merge()`"
      ]
    },
    {
      "cell_type": "code",
      "metadata": {
        "colab": {
          "base_uri": "https://localhost:8080/",
          "height": 445
        },
        "id": "6z2MpYBczy8S",
        "outputId": "fdfc7854-c7c9-4d84-c775-0836ad62e076"
      },
      "source": [
        "capDict = {'A81' : 85,  'AN4' : 44, 'BNI' : 9, 'CNC' : 19, \n",
        "        'DHP' : 6, 'DHT' : 20, 'BET' : 1,  '73M' :161.5, \n",
        "        'SU9' : 1, 'PL2' :9, 'PAG' :9, 'YK2' :120, 'YK4' :24,  \n",
        "        'PA2' : 9, 'CN1' : 1, 'CNA' : 1, 'BE1'  :19, 'CNT' : 14, \n",
        "        'MA6' : 1, '77W' : 396, '772' : 368,  'CRK' : 100, '787' : 310, \n",
        "        '32B' : 244,  '32A' : 150,  '73C' : 1, 'CRA' : 1, '77L' : 317, \n",
        "        '788' : 242,  '76W'  : 1, '74Y' : 1, '74H' :467, '73J' : 1, \n",
        "        '73Q' : 1, '75W' : 1, 'F28' : 65, '74N' : 1, 'YN7' : 52, \n",
        "        'IL9' : 262, 'A58' : 75, '75T' : 1,  'BH2' : 14, 'NDE' : 5, \n",
        "        'BEC' : 2, 'CNJ' : 10,  'J32' : 19, 'AB4' : 247, 'PA1' : 9,  \n",
        "        'BE9' : 16, 'M1F' : 1, 'YN2' : 17, '76F' : 1,  'CN2' : 19, 'SFB' : 1, \n",
        "        '73R' : 150, '73N' : 149,  '77X' : 1, '33X' : 1,  '32C': 107}\n",
        "\n",
        "for index, row in aircraftsDF.iterrows():\n",
        "  if row['Equipment'] != '\\\\N' and row['Capacity'] != '\\\\N':\n",
        "    capDict[row['Equipment']] = int(row['Capacity'])\n",
        "\n",
        "routesDF['MinCapacity'] = np.nan\n",
        "routesDF['AvgCapacity'] = np.nan\n",
        "routesDF['MaxCapacity'] = np.nan\n",
        "\n",
        "for i in range(len(routesDF.Equipment)):\n",
        "  planes = str(routesDF.Equipment[i]).split(' ')\n",
        "  capacities = []\n",
        "  for plane in planes:\n",
        "    if plane != '' and plane != 'nan' and plane != '\\\\N':\n",
        "      capacities.append(capDict[plane])\n",
        "  if capacities != []:\n",
        "    routesDF['MinCapacity'][i] = min(capacities)\n",
        "    routesDF['AvgCapacity'][i] = round(sum(capacities)/len(capacities))\n",
        "    routesDF['MaxCapacity'][i] = max(capacities)\n",
        "\n",
        "routesDF = routesDF.dropna(subset=['MinCapacity','AvgCapacity','MaxCapacity'])\n",
        "routesDF = routesDF[routesDF.Source != '\\\\N']\n",
        "routesDF = routesDF[routesDF.Destination != '\\\\N']\n",
        "\n",
        "routesDF.head()"
      ],
      "execution_count": null,
      "outputs": [
        {
          "output_type": "stream",
          "text": [
            "/usr/local/lib/python3.6/dist-packages/ipykernel_launcher.py:29: SettingWithCopyWarning: \n",
            "A value is trying to be set on a copy of a slice from a DataFrame\n",
            "\n",
            "See the caveats in the documentation: https://pandas.pydata.org/pandas-docs/stable/user_guide/indexing.html#returning-a-view-versus-a-copy\n",
            "/usr/local/lib/python3.6/dist-packages/ipykernel_launcher.py:30: SettingWithCopyWarning: \n",
            "A value is trying to be set on a copy of a slice from a DataFrame\n",
            "\n",
            "See the caveats in the documentation: https://pandas.pydata.org/pandas-docs/stable/user_guide/indexing.html#returning-a-view-versus-a-copy\n",
            "/usr/local/lib/python3.6/dist-packages/ipykernel_launcher.py:31: SettingWithCopyWarning: \n",
            "A value is trying to be set on a copy of a slice from a DataFrame\n",
            "\n",
            "See the caveats in the documentation: https://pandas.pydata.org/pandas-docs/stable/user_guide/indexing.html#returning-a-view-versus-a-copy\n"
          ],
          "name": "stderr"
        },
        {
          "output_type": "execute_result",
          "data": {
            "text/html": [
              "<div>\n",
              "<style scoped>\n",
              "    .dataframe tbody tr th:only-of-type {\n",
              "        vertical-align: middle;\n",
              "    }\n",
              "\n",
              "    .dataframe tbody tr th {\n",
              "        vertical-align: top;\n",
              "    }\n",
              "\n",
              "    .dataframe thead th {\n",
              "        text-align: right;\n",
              "    }\n",
              "</style>\n",
              "<table border=\"1\" class=\"dataframe\">\n",
              "  <thead>\n",
              "    <tr style=\"text-align: right;\">\n",
              "      <th></th>\n",
              "      <th>Airline Code</th>\n",
              "      <th>AirlineID</th>\n",
              "      <th>Source</th>\n",
              "      <th>SourceID</th>\n",
              "      <th>Destination</th>\n",
              "      <th>DestinationID</th>\n",
              "      <th>cShare</th>\n",
              "      <th>NumStops</th>\n",
              "      <th>Equipment</th>\n",
              "      <th>MinCapacity</th>\n",
              "      <th>AvgCapacity</th>\n",
              "      <th>MaxCapacity</th>\n",
              "    </tr>\n",
              "  </thead>\n",
              "  <tbody>\n",
              "    <tr>\n",
              "      <th>0</th>\n",
              "      <td>2B</td>\n",
              "      <td>410</td>\n",
              "      <td>AER</td>\n",
              "      <td>2965</td>\n",
              "      <td>KZN</td>\n",
              "      <td>2990</td>\n",
              "      <td>NaN</td>\n",
              "      <td>0</td>\n",
              "      <td>CR2</td>\n",
              "      <td>50.0</td>\n",
              "      <td>50.0</td>\n",
              "      <td>50.0</td>\n",
              "    </tr>\n",
              "    <tr>\n",
              "      <th>1</th>\n",
              "      <td>2B</td>\n",
              "      <td>410</td>\n",
              "      <td>ASF</td>\n",
              "      <td>2966</td>\n",
              "      <td>KZN</td>\n",
              "      <td>2990</td>\n",
              "      <td>NaN</td>\n",
              "      <td>0</td>\n",
              "      <td>CR2</td>\n",
              "      <td>50.0</td>\n",
              "      <td>50.0</td>\n",
              "      <td>50.0</td>\n",
              "    </tr>\n",
              "    <tr>\n",
              "      <th>2</th>\n",
              "      <td>2B</td>\n",
              "      <td>410</td>\n",
              "      <td>ASF</td>\n",
              "      <td>2966</td>\n",
              "      <td>MRV</td>\n",
              "      <td>2962</td>\n",
              "      <td>NaN</td>\n",
              "      <td>0</td>\n",
              "      <td>CR2</td>\n",
              "      <td>50.0</td>\n",
              "      <td>50.0</td>\n",
              "      <td>50.0</td>\n",
              "    </tr>\n",
              "    <tr>\n",
              "      <th>3</th>\n",
              "      <td>2B</td>\n",
              "      <td>410</td>\n",
              "      <td>CEK</td>\n",
              "      <td>2968</td>\n",
              "      <td>KZN</td>\n",
              "      <td>2990</td>\n",
              "      <td>NaN</td>\n",
              "      <td>0</td>\n",
              "      <td>CR2</td>\n",
              "      <td>50.0</td>\n",
              "      <td>50.0</td>\n",
              "      <td>50.0</td>\n",
              "    </tr>\n",
              "    <tr>\n",
              "      <th>4</th>\n",
              "      <td>2B</td>\n",
              "      <td>410</td>\n",
              "      <td>CEK</td>\n",
              "      <td>2968</td>\n",
              "      <td>OVB</td>\n",
              "      <td>4078</td>\n",
              "      <td>NaN</td>\n",
              "      <td>0</td>\n",
              "      <td>CR2</td>\n",
              "      <td>50.0</td>\n",
              "      <td>50.0</td>\n",
              "      <td>50.0</td>\n",
              "    </tr>\n",
              "  </tbody>\n",
              "</table>\n",
              "</div>"
            ],
            "text/plain": [
              "  Airline Code AirlineID Source  ... MinCapacity AvgCapacity MaxCapacity\n",
              "0           2B       410    AER  ...        50.0        50.0        50.0\n",
              "1           2B       410    ASF  ...        50.0        50.0        50.0\n",
              "2           2B       410    ASF  ...        50.0        50.0        50.0\n",
              "3           2B       410    CEK  ...        50.0        50.0        50.0\n",
              "4           2B       410    CEK  ...        50.0        50.0        50.0\n",
              "\n",
              "[5 rows x 12 columns]"
            ]
          },
          "metadata": {
            "tags": []
          },
          "execution_count": 11
        }
      ]
    },
    {
      "cell_type": "markdown",
      "metadata": {
        "id": "5RSDQoDKEp_-"
      },
      "source": [
        "## Super Node ID Columns"
      ]
    },
    {
      "cell_type": "code",
      "metadata": {
        "id": "Q2SPkvpoEu6t",
        "colab": {
          "base_uri": "https://localhost:8080/",
          "height": 289
        },
        "outputId": "7c4e28a9-7675-4495-db7f-b48d60f096c5"
      },
      "source": [
        "airportsDF = pd.read_csv(f\"{pathToFile}/airports.dat.txt\", header=None  )\n",
        "apcodesDF = airportsDF[[2,3,4]]\n",
        "airportsDF.head()"
      ],
      "execution_count": null,
      "outputs": [
        {
          "output_type": "execute_result",
          "data": {
            "text/html": [
              "<div>\n",
              "<style scoped>\n",
              "    .dataframe tbody tr th:only-of-type {\n",
              "        vertical-align: middle;\n",
              "    }\n",
              "\n",
              "    .dataframe tbody tr th {\n",
              "        vertical-align: top;\n",
              "    }\n",
              "\n",
              "    .dataframe thead th {\n",
              "        text-align: right;\n",
              "    }\n",
              "</style>\n",
              "<table border=\"1\" class=\"dataframe\">\n",
              "  <thead>\n",
              "    <tr style=\"text-align: right;\">\n",
              "      <th></th>\n",
              "      <th>0</th>\n",
              "      <th>1</th>\n",
              "      <th>2</th>\n",
              "      <th>3</th>\n",
              "      <th>4</th>\n",
              "      <th>5</th>\n",
              "      <th>6</th>\n",
              "      <th>7</th>\n",
              "      <th>8</th>\n",
              "      <th>9</th>\n",
              "      <th>10</th>\n",
              "      <th>11</th>\n",
              "      <th>12</th>\n",
              "      <th>13</th>\n",
              "    </tr>\n",
              "  </thead>\n",
              "  <tbody>\n",
              "    <tr>\n",
              "      <th>0</th>\n",
              "      <td>1</td>\n",
              "      <td>Goroka Airport</td>\n",
              "      <td>Goroka</td>\n",
              "      <td>Papua New Guinea</td>\n",
              "      <td>GKA</td>\n",
              "      <td>AYGA</td>\n",
              "      <td>-6.081690</td>\n",
              "      <td>145.391998</td>\n",
              "      <td>5282</td>\n",
              "      <td>10</td>\n",
              "      <td>U</td>\n",
              "      <td>Pacific/Port_Moresby</td>\n",
              "      <td>airport</td>\n",
              "      <td>OurAirports</td>\n",
              "    </tr>\n",
              "    <tr>\n",
              "      <th>1</th>\n",
              "      <td>2</td>\n",
              "      <td>Madang Airport</td>\n",
              "      <td>Madang</td>\n",
              "      <td>Papua New Guinea</td>\n",
              "      <td>MAG</td>\n",
              "      <td>AYMD</td>\n",
              "      <td>-5.207080</td>\n",
              "      <td>145.789001</td>\n",
              "      <td>20</td>\n",
              "      <td>10</td>\n",
              "      <td>U</td>\n",
              "      <td>Pacific/Port_Moresby</td>\n",
              "      <td>airport</td>\n",
              "      <td>OurAirports</td>\n",
              "    </tr>\n",
              "    <tr>\n",
              "      <th>2</th>\n",
              "      <td>3</td>\n",
              "      <td>Mount Hagen Kagamuga Airport</td>\n",
              "      <td>Mount Hagen</td>\n",
              "      <td>Papua New Guinea</td>\n",
              "      <td>HGU</td>\n",
              "      <td>AYMH</td>\n",
              "      <td>-5.826790</td>\n",
              "      <td>144.296005</td>\n",
              "      <td>5388</td>\n",
              "      <td>10</td>\n",
              "      <td>U</td>\n",
              "      <td>Pacific/Port_Moresby</td>\n",
              "      <td>airport</td>\n",
              "      <td>OurAirports</td>\n",
              "    </tr>\n",
              "    <tr>\n",
              "      <th>3</th>\n",
              "      <td>4</td>\n",
              "      <td>Nadzab Airport</td>\n",
              "      <td>Nadzab</td>\n",
              "      <td>Papua New Guinea</td>\n",
              "      <td>LAE</td>\n",
              "      <td>AYNZ</td>\n",
              "      <td>-6.569803</td>\n",
              "      <td>146.725977</td>\n",
              "      <td>239</td>\n",
              "      <td>10</td>\n",
              "      <td>U</td>\n",
              "      <td>Pacific/Port_Moresby</td>\n",
              "      <td>airport</td>\n",
              "      <td>OurAirports</td>\n",
              "    </tr>\n",
              "    <tr>\n",
              "      <th>4</th>\n",
              "      <td>5</td>\n",
              "      <td>Port Moresby Jacksons International Airport</td>\n",
              "      <td>Port Moresby</td>\n",
              "      <td>Papua New Guinea</td>\n",
              "      <td>POM</td>\n",
              "      <td>AYPY</td>\n",
              "      <td>-9.443380</td>\n",
              "      <td>147.220001</td>\n",
              "      <td>146</td>\n",
              "      <td>10</td>\n",
              "      <td>U</td>\n",
              "      <td>Pacific/Port_Moresby</td>\n",
              "      <td>airport</td>\n",
              "      <td>OurAirports</td>\n",
              "    </tr>\n",
              "  </tbody>\n",
              "</table>\n",
              "</div>"
            ],
            "text/plain": [
              "   0                                            1   ...       12           13\n",
              "0   1                               Goroka Airport  ...  airport  OurAirports\n",
              "1   2                               Madang Airport  ...  airport  OurAirports\n",
              "2   3                 Mount Hagen Kagamuga Airport  ...  airport  OurAirports\n",
              "3   4                               Nadzab Airport  ...  airport  OurAirports\n",
              "4   5  Port Moresby Jacksons International Airport  ...  airport  OurAirports\n",
              "\n",
              "[5 rows x 14 columns]"
            ]
          },
          "metadata": {
            "tags": []
          },
          "execution_count": 12
        }
      ]
    },
    {
      "cell_type": "markdown",
      "metadata": {
        "id": "70_KTarxEyuh"
      },
      "source": [
        "### Source"
      ]
    },
    {
      "cell_type": "code",
      "metadata": {
        "colab": {
          "base_uri": "https://localhost:8080/",
          "height": 456
        },
        "id": "u98k9wk4E1ON",
        "outputId": "912755ec-e75f-40f1-d36e-82953741b8cd"
      },
      "source": [
        "sourcecodesDF = apcodesDF\n",
        "sourcecodesDF.columns = [\"SourceCity\", \"SourceCountry\", \"Source\"]\n",
        "\n",
        "srcDF = pd.merge(routesDF, sourcecodesDF, how=\"inner\", on = \"Source\")\n",
        "srcDF"
      ],
      "execution_count": null,
      "outputs": [
        {
          "output_type": "execute_result",
          "data": {
            "text/html": [
              "<div>\n",
              "<style scoped>\n",
              "    .dataframe tbody tr th:only-of-type {\n",
              "        vertical-align: middle;\n",
              "    }\n",
              "\n",
              "    .dataframe tbody tr th {\n",
              "        vertical-align: top;\n",
              "    }\n",
              "\n",
              "    .dataframe thead th {\n",
              "        text-align: right;\n",
              "    }\n",
              "</style>\n",
              "<table border=\"1\" class=\"dataframe\">\n",
              "  <thead>\n",
              "    <tr style=\"text-align: right;\">\n",
              "      <th></th>\n",
              "      <th>Airline Code</th>\n",
              "      <th>AirlineID</th>\n",
              "      <th>Source</th>\n",
              "      <th>SourceID</th>\n",
              "      <th>Destination</th>\n",
              "      <th>DestinationID</th>\n",
              "      <th>cShare</th>\n",
              "      <th>NumStops</th>\n",
              "      <th>Equipment</th>\n",
              "      <th>MinCapacity</th>\n",
              "      <th>AvgCapacity</th>\n",
              "      <th>MaxCapacity</th>\n",
              "      <th>SourceCity</th>\n",
              "      <th>SourceCountry</th>\n",
              "    </tr>\n",
              "  </thead>\n",
              "  <tbody>\n",
              "    <tr>\n",
              "      <th>0</th>\n",
              "      <td>2B</td>\n",
              "      <td>410</td>\n",
              "      <td>AER</td>\n",
              "      <td>2965</td>\n",
              "      <td>KZN</td>\n",
              "      <td>2990</td>\n",
              "      <td>NaN</td>\n",
              "      <td>0</td>\n",
              "      <td>CR2</td>\n",
              "      <td>50.0</td>\n",
              "      <td>50.0</td>\n",
              "      <td>50.0</td>\n",
              "      <td>Sochi</td>\n",
              "      <td>Russia</td>\n",
              "    </tr>\n",
              "    <tr>\n",
              "      <th>1</th>\n",
              "      <td>7J</td>\n",
              "      <td>9531</td>\n",
              "      <td>AER</td>\n",
              "      <td>2965</td>\n",
              "      <td>DYU</td>\n",
              "      <td>2979</td>\n",
              "      <td>NaN</td>\n",
              "      <td>0</td>\n",
              "      <td>735</td>\n",
              "      <td>108.0</td>\n",
              "      <td>108.0</td>\n",
              "      <td>108.0</td>\n",
              "      <td>Sochi</td>\n",
              "      <td>Russia</td>\n",
              "    </tr>\n",
              "    <tr>\n",
              "      <th>2</th>\n",
              "      <td>9U</td>\n",
              "      <td>1073</td>\n",
              "      <td>AER</td>\n",
              "      <td>2965</td>\n",
              "      <td>KIV</td>\n",
              "      <td>1735</td>\n",
              "      <td>NaN</td>\n",
              "      <td>0</td>\n",
              "      <td>EM2</td>\n",
              "      <td>30.0</td>\n",
              "      <td>30.0</td>\n",
              "      <td>30.0</td>\n",
              "      <td>Sochi</td>\n",
              "      <td>Russia</td>\n",
              "    </tr>\n",
              "    <tr>\n",
              "      <th>3</th>\n",
              "      <td>B2</td>\n",
              "      <td>1478</td>\n",
              "      <td>AER</td>\n",
              "      <td>2965</td>\n",
              "      <td>MSQ</td>\n",
              "      <td>2954</td>\n",
              "      <td>NaN</td>\n",
              "      <td>0</td>\n",
              "      <td>735 CRJ</td>\n",
              "      <td>70.0</td>\n",
              "      <td>89.0</td>\n",
              "      <td>108.0</td>\n",
              "      <td>Sochi</td>\n",
              "      <td>Russia</td>\n",
              "    </tr>\n",
              "    <tr>\n",
              "      <th>4</th>\n",
              "      <td>HY</td>\n",
              "      <td>5281</td>\n",
              "      <td>AER</td>\n",
              "      <td>2965</td>\n",
              "      <td>TAS</td>\n",
              "      <td>2983</td>\n",
              "      <td>NaN</td>\n",
              "      <td>0</td>\n",
              "      <td>767</td>\n",
              "      <td>216.0</td>\n",
              "      <td>216.0</td>\n",
              "      <td>216.0</td>\n",
              "      <td>Sochi</td>\n",
              "      <td>Russia</td>\n",
              "    </tr>\n",
              "    <tr>\n",
              "      <th>...</th>\n",
              "      <td>...</td>\n",
              "      <td>...</td>\n",
              "      <td>...</td>\n",
              "      <td>...</td>\n",
              "      <td>...</td>\n",
              "      <td>...</td>\n",
              "      <td>...</td>\n",
              "      <td>...</td>\n",
              "      <td>...</td>\n",
              "      <td>...</td>\n",
              "      <td>...</td>\n",
              "      <td>...</td>\n",
              "      <td>...</td>\n",
              "      <td>...</td>\n",
              "    </tr>\n",
              "    <tr>\n",
              "      <th>67234</th>\n",
              "      <td>ZL</td>\n",
              "      <td>4178</td>\n",
              "      <td>TRO</td>\n",
              "      <td>6794</td>\n",
              "      <td>GFN</td>\n",
              "      <td>6792</td>\n",
              "      <td>NaN</td>\n",
              "      <td>0</td>\n",
              "      <td>SF3</td>\n",
              "      <td>37.0</td>\n",
              "      <td>37.0</td>\n",
              "      <td>37.0</td>\n",
              "      <td>Taree</td>\n",
              "      <td>Australia</td>\n",
              "    </tr>\n",
              "    <tr>\n",
              "      <th>67235</th>\n",
              "      <td>ZL</td>\n",
              "      <td>4178</td>\n",
              "      <td>TRO</td>\n",
              "      <td>6794</td>\n",
              "      <td>SYD</td>\n",
              "      <td>3361</td>\n",
              "      <td>NaN</td>\n",
              "      <td>0</td>\n",
              "      <td>SF3</td>\n",
              "      <td>37.0</td>\n",
              "      <td>37.0</td>\n",
              "      <td>37.0</td>\n",
              "      <td>Taree</td>\n",
              "      <td>Australia</td>\n",
              "    </tr>\n",
              "    <tr>\n",
              "      <th>67236</th>\n",
              "      <td>ZL</td>\n",
              "      <td>4178</td>\n",
              "      <td>WIN</td>\n",
              "      <td>6337</td>\n",
              "      <td>LRE</td>\n",
              "      <td>6289</td>\n",
              "      <td>NaN</td>\n",
              "      <td>0</td>\n",
              "      <td>SF3</td>\n",
              "      <td>37.0</td>\n",
              "      <td>37.0</td>\n",
              "      <td>37.0</td>\n",
              "      <td>Winton</td>\n",
              "      <td>Australia</td>\n",
              "    </tr>\n",
              "    <tr>\n",
              "      <th>67237</th>\n",
              "      <td>ZL</td>\n",
              "      <td>4178</td>\n",
              "      <td>WIN</td>\n",
              "      <td>6337</td>\n",
              "      <td>TSV</td>\n",
              "      <td>3330</td>\n",
              "      <td>NaN</td>\n",
              "      <td>0</td>\n",
              "      <td>SF3</td>\n",
              "      <td>37.0</td>\n",
              "      <td>37.0</td>\n",
              "      <td>37.0</td>\n",
              "      <td>Winton</td>\n",
              "      <td>Australia</td>\n",
              "    </tr>\n",
              "    <tr>\n",
              "      <th>67238</th>\n",
              "      <td>ZL</td>\n",
              "      <td>4178</td>\n",
              "      <td>WYA</td>\n",
              "      <td>6334</td>\n",
              "      <td>ADL</td>\n",
              "      <td>3341</td>\n",
              "      <td>NaN</td>\n",
              "      <td>0</td>\n",
              "      <td>SF3</td>\n",
              "      <td>37.0</td>\n",
              "      <td>37.0</td>\n",
              "      <td>37.0</td>\n",
              "      <td>Whyalla</td>\n",
              "      <td>Australia</td>\n",
              "    </tr>\n",
              "  </tbody>\n",
              "</table>\n",
              "<p>67239 rows × 14 columns</p>\n",
              "</div>"
            ],
            "text/plain": [
              "      Airline Code AirlineID Source  ... MaxCapacity SourceCity SourceCountry\n",
              "0               2B       410    AER  ...        50.0      Sochi        Russia\n",
              "1               7J      9531    AER  ...       108.0      Sochi        Russia\n",
              "2               9U      1073    AER  ...        30.0      Sochi        Russia\n",
              "3               B2      1478    AER  ...       108.0      Sochi        Russia\n",
              "4               HY      5281    AER  ...       216.0      Sochi        Russia\n",
              "...            ...       ...    ...  ...         ...        ...           ...\n",
              "67234           ZL      4178    TRO  ...        37.0      Taree     Australia\n",
              "67235           ZL      4178    TRO  ...        37.0      Taree     Australia\n",
              "67236           ZL      4178    WIN  ...        37.0     Winton     Australia\n",
              "67237           ZL      4178    WIN  ...        37.0     Winton     Australia\n",
              "67238           ZL      4178    WYA  ...        37.0    Whyalla     Australia\n",
              "\n",
              "[67239 rows x 14 columns]"
            ]
          },
          "metadata": {
            "tags": []
          },
          "execution_count": 13
        }
      ]
    },
    {
      "cell_type": "markdown",
      "metadata": {
        "id": "sxYudbmYE3Px"
      },
      "source": [
        "### Destination"
      ]
    },
    {
      "cell_type": "code",
      "metadata": {
        "colab": {
          "base_uri": "https://localhost:8080/",
          "height": 456
        },
        "id": "9DPMVsfIE5oS",
        "outputId": "b88a953e-2a62-4d94-9688-8d4d5b11e56c"
      },
      "source": [
        "destcodesDF = apcodesDF\n",
        "destcodesDF.columns = [\"DestCity\", \"DestCountry\", \"Destination\"]\n",
        "\n",
        "routesDF2 = pd.merge(srcDF, destcodesDF, how=\"inner\", on = \"Destination\")\n",
        "routesDF2"
      ],
      "execution_count": null,
      "outputs": [
        {
          "output_type": "execute_result",
          "data": {
            "text/html": [
              "<div>\n",
              "<style scoped>\n",
              "    .dataframe tbody tr th:only-of-type {\n",
              "        vertical-align: middle;\n",
              "    }\n",
              "\n",
              "    .dataframe tbody tr th {\n",
              "        vertical-align: top;\n",
              "    }\n",
              "\n",
              "    .dataframe thead th {\n",
              "        text-align: right;\n",
              "    }\n",
              "</style>\n",
              "<table border=\"1\" class=\"dataframe\">\n",
              "  <thead>\n",
              "    <tr style=\"text-align: right;\">\n",
              "      <th></th>\n",
              "      <th>Airline Code</th>\n",
              "      <th>AirlineID</th>\n",
              "      <th>Source</th>\n",
              "      <th>SourceID</th>\n",
              "      <th>Destination</th>\n",
              "      <th>DestinationID</th>\n",
              "      <th>cShare</th>\n",
              "      <th>NumStops</th>\n",
              "      <th>Equipment</th>\n",
              "      <th>MinCapacity</th>\n",
              "      <th>AvgCapacity</th>\n",
              "      <th>MaxCapacity</th>\n",
              "      <th>SourceCity</th>\n",
              "      <th>SourceCountry</th>\n",
              "      <th>DestCity</th>\n",
              "      <th>DestCountry</th>\n",
              "    </tr>\n",
              "  </thead>\n",
              "  <tbody>\n",
              "    <tr>\n",
              "      <th>0</th>\n",
              "      <td>2B</td>\n",
              "      <td>410</td>\n",
              "      <td>AER</td>\n",
              "      <td>2965</td>\n",
              "      <td>KZN</td>\n",
              "      <td>2990</td>\n",
              "      <td>NaN</td>\n",
              "      <td>0</td>\n",
              "      <td>CR2</td>\n",
              "      <td>50.0</td>\n",
              "      <td>50.0</td>\n",
              "      <td>50.0</td>\n",
              "      <td>Sochi</td>\n",
              "      <td>Russia</td>\n",
              "      <td>Kazan</td>\n",
              "      <td>Russia</td>\n",
              "    </tr>\n",
              "    <tr>\n",
              "      <th>1</th>\n",
              "      <td>2B</td>\n",
              "      <td>410</td>\n",
              "      <td>ASF</td>\n",
              "      <td>2966</td>\n",
              "      <td>KZN</td>\n",
              "      <td>2990</td>\n",
              "      <td>NaN</td>\n",
              "      <td>0</td>\n",
              "      <td>CR2</td>\n",
              "      <td>50.0</td>\n",
              "      <td>50.0</td>\n",
              "      <td>50.0</td>\n",
              "      <td>Astrakhan</td>\n",
              "      <td>Russia</td>\n",
              "      <td>Kazan</td>\n",
              "      <td>Russia</td>\n",
              "    </tr>\n",
              "    <tr>\n",
              "      <th>2</th>\n",
              "      <td>2B</td>\n",
              "      <td>410</td>\n",
              "      <td>CEK</td>\n",
              "      <td>2968</td>\n",
              "      <td>KZN</td>\n",
              "      <td>2990</td>\n",
              "      <td>NaN</td>\n",
              "      <td>0</td>\n",
              "      <td>CR2</td>\n",
              "      <td>50.0</td>\n",
              "      <td>50.0</td>\n",
              "      <td>50.0</td>\n",
              "      <td>Chelyabinsk</td>\n",
              "      <td>Russia</td>\n",
              "      <td>Kazan</td>\n",
              "      <td>Russia</td>\n",
              "    </tr>\n",
              "    <tr>\n",
              "      <th>3</th>\n",
              "      <td>2B</td>\n",
              "      <td>410</td>\n",
              "      <td>DME</td>\n",
              "      <td>4029</td>\n",
              "      <td>KZN</td>\n",
              "      <td>2990</td>\n",
              "      <td>NaN</td>\n",
              "      <td>0</td>\n",
              "      <td>CR2</td>\n",
              "      <td>50.0</td>\n",
              "      <td>50.0</td>\n",
              "      <td>50.0</td>\n",
              "      <td>Moscow</td>\n",
              "      <td>Russia</td>\n",
              "      <td>Kazan</td>\n",
              "      <td>Russia</td>\n",
              "    </tr>\n",
              "    <tr>\n",
              "      <th>4</th>\n",
              "      <td>S7</td>\n",
              "      <td>4329</td>\n",
              "      <td>DME</td>\n",
              "      <td>4029</td>\n",
              "      <td>KZN</td>\n",
              "      <td>2990</td>\n",
              "      <td>NaN</td>\n",
              "      <td>0</td>\n",
              "      <td>319</td>\n",
              "      <td>124.0</td>\n",
              "      <td>124.0</td>\n",
              "      <td>124.0</td>\n",
              "      <td>Moscow</td>\n",
              "      <td>Russia</td>\n",
              "      <td>Kazan</td>\n",
              "      <td>Russia</td>\n",
              "    </tr>\n",
              "    <tr>\n",
              "      <th>...</th>\n",
              "      <td>...</td>\n",
              "      <td>...</td>\n",
              "      <td>...</td>\n",
              "      <td>...</td>\n",
              "      <td>...</td>\n",
              "      <td>...</td>\n",
              "      <td>...</td>\n",
              "      <td>...</td>\n",
              "      <td>...</td>\n",
              "      <td>...</td>\n",
              "      <td>...</td>\n",
              "      <td>...</td>\n",
              "      <td>...</td>\n",
              "      <td>...</td>\n",
              "      <td>...</td>\n",
              "      <td>...</td>\n",
              "    </tr>\n",
              "    <tr>\n",
              "      <th>66911</th>\n",
              "      <td>YN</td>\n",
              "      <td>\\N</td>\n",
              "      <td>ZKE</td>\n",
              "      <td>5543</td>\n",
              "      <td>YFA</td>\n",
              "      <td>5490</td>\n",
              "      <td>NaN</td>\n",
              "      <td>0</td>\n",
              "      <td>DH1</td>\n",
              "      <td>40.0</td>\n",
              "      <td>40.0</td>\n",
              "      <td>40.0</td>\n",
              "      <td>Kashechewan</td>\n",
              "      <td>Canada</td>\n",
              "      <td>Fort Albany</td>\n",
              "      <td>Canada</td>\n",
              "    </tr>\n",
              "    <tr>\n",
              "      <th>66912</th>\n",
              "      <td>YN</td>\n",
              "      <td>\\N</td>\n",
              "      <td>YPO</td>\n",
              "      <td>5522</td>\n",
              "      <td>YAT</td>\n",
              "      <td>5482</td>\n",
              "      <td>NaN</td>\n",
              "      <td>0</td>\n",
              "      <td>DH1</td>\n",
              "      <td>40.0</td>\n",
              "      <td>40.0</td>\n",
              "      <td>40.0</td>\n",
              "      <td>Peawanuck</td>\n",
              "      <td>Canada</td>\n",
              "      <td>Attawapiskat</td>\n",
              "      <td>Canada</td>\n",
              "    </tr>\n",
              "    <tr>\n",
              "      <th>66913</th>\n",
              "      <td>YN</td>\n",
              "      <td>\\N</td>\n",
              "      <td>ZKE</td>\n",
              "      <td>5543</td>\n",
              "      <td>YAT</td>\n",
              "      <td>5482</td>\n",
              "      <td>NaN</td>\n",
              "      <td>0</td>\n",
              "      <td>DH1</td>\n",
              "      <td>40.0</td>\n",
              "      <td>40.0</td>\n",
              "      <td>40.0</td>\n",
              "      <td>Kashechewan</td>\n",
              "      <td>Canada</td>\n",
              "      <td>Attawapiskat</td>\n",
              "      <td>Canada</td>\n",
              "    </tr>\n",
              "    <tr>\n",
              "      <th>66914</th>\n",
              "      <td>ZL</td>\n",
              "      <td>4178</td>\n",
              "      <td>JCK</td>\n",
              "      <td>6276</td>\n",
              "      <td>RCM</td>\n",
              "      <td>9904</td>\n",
              "      <td>NaN</td>\n",
              "      <td>0</td>\n",
              "      <td>SF3</td>\n",
              "      <td>37.0</td>\n",
              "      <td>37.0</td>\n",
              "      <td>37.0</td>\n",
              "      <td>Julia Creek</td>\n",
              "      <td>Australia</td>\n",
              "      <td>Richmond</td>\n",
              "      <td>Australia</td>\n",
              "    </tr>\n",
              "    <tr>\n",
              "      <th>66915</th>\n",
              "      <td>ZL</td>\n",
              "      <td>4178</td>\n",
              "      <td>TRO</td>\n",
              "      <td>6794</td>\n",
              "      <td>GFN</td>\n",
              "      <td>6792</td>\n",
              "      <td>NaN</td>\n",
              "      <td>0</td>\n",
              "      <td>SF3</td>\n",
              "      <td>37.0</td>\n",
              "      <td>37.0</td>\n",
              "      <td>37.0</td>\n",
              "      <td>Taree</td>\n",
              "      <td>Australia</td>\n",
              "      <td>Grafton</td>\n",
              "      <td>Australia</td>\n",
              "    </tr>\n",
              "  </tbody>\n",
              "</table>\n",
              "<p>66916 rows × 16 columns</p>\n",
              "</div>"
            ],
            "text/plain": [
              "      Airline Code AirlineID Source  ... SourceCountry      DestCity DestCountry\n",
              "0               2B       410    AER  ...        Russia         Kazan      Russia\n",
              "1               2B       410    ASF  ...        Russia         Kazan      Russia\n",
              "2               2B       410    CEK  ...        Russia         Kazan      Russia\n",
              "3               2B       410    DME  ...        Russia         Kazan      Russia\n",
              "4               S7      4329    DME  ...        Russia         Kazan      Russia\n",
              "...            ...       ...    ...  ...           ...           ...         ...\n",
              "66911           YN        \\N    ZKE  ...        Canada   Fort Albany      Canada\n",
              "66912           YN        \\N    YPO  ...        Canada  Attawapiskat      Canada\n",
              "66913           YN        \\N    ZKE  ...        Canada  Attawapiskat      Canada\n",
              "66914           ZL      4178    JCK  ...     Australia      Richmond   Australia\n",
              "66915           ZL      4178    TRO  ...     Australia       Grafton   Australia\n",
              "\n",
              "[66916 rows x 16 columns]"
            ]
          },
          "metadata": {
            "tags": []
          },
          "execution_count": 14
        }
      ]
    },
    {
      "cell_type": "markdown",
      "metadata": {
        "id": "oB770wShnNW4"
      },
      "source": [
        "### Airport Dictionary\n",
        "\n"
      ]
    },
    {
      "cell_type": "code",
      "metadata": {
        "id": "UH-gXSkjnRtB"
      },
      "source": [
        "srcs = routesDF2.filter(regex = (\"Source*\")).drop_duplicates()"
      ],
      "execution_count": null,
      "outputs": []
    },
    {
      "cell_type": "code",
      "metadata": {
        "id": "bwtEru8xwtJz",
        "colab": {
          "base_uri": "https://localhost:8080/"
        },
        "outputId": "9c5eda93-338c-4284-a827-0789fc3d07e5"
      },
      "source": [
        "srcsDict = {}\n",
        "\n",
        "for i in srcs['SourceCity'].unique():\n",
        "    srcsDict[i] = [j for j in srcs[srcs['SourceCity']==i].Source]\n",
        "\n",
        "srcsDict['New York']"
      ],
      "execution_count": null,
      "outputs": [
        {
          "output_type": "execute_result",
          "data": {
            "text/plain": [
              "['JFK', 'LGA']"
            ]
          },
          "metadata": {
            "tags": []
          },
          "execution_count": 16
        }
      ]
    },
    {
      "cell_type": "code",
      "metadata": {
        "id": "Ywfgejr4oLhn"
      },
      "source": [
        "dest = routesDF2.filter(regex = (\"Dest*\")).drop_duplicates()"
      ],
      "execution_count": null,
      "outputs": []
    },
    {
      "cell_type": "code",
      "metadata": {
        "id": "ERFrN38ysrjv"
      },
      "source": [
        "destDict = {}\n",
        "\n",
        "for i in dest['DestCity'].unique():\n",
        "    destDict[i] = [j for j in dest[dest['DestCity']==i].Destination]"
      ],
      "execution_count": null,
      "outputs": []
    },
    {
      "cell_type": "code",
      "metadata": {
        "id": "iLNfPcoTqUiV",
        "colab": {
          "base_uri": "https://localhost:8080/"
        },
        "outputId": "dee9a5a1-972b-4e1c-dc7f-1b1a8b7cdf17"
      },
      "source": [
        "destDict[\"San Francisco\"]"
      ],
      "execution_count": null,
      "outputs": [
        {
          "output_type": "execute_result",
          "data": {
            "text/plain": [
              "['SFO']"
            ]
          },
          "metadata": {
            "tags": []
          },
          "execution_count": 19
        }
      ]
    },
    {
      "cell_type": "markdown",
      "metadata": {
        "id": "Jw0XL5pVgYJD"
      },
      "source": [
        "# Graph Class & Ford-Fulkerson\n",
        "The following classes allow creation of vertices and edges in a directed graph. The getPath and calculateMaxFlow functions (under the FlowNetwork class) can be used to find max flow from source to sink.\n",
        "These classes will be useful in finding the max number of people we can transport from one airport to another."
      ]
    },
    {
      "cell_type": "code",
      "metadata": {
        "id": "ue_cq24Z_I6c"
      },
      "source": [
        "class Graph: \n",
        "   \n",
        "    def __init__(self,graph): \n",
        "        self.graph = graph # residual graph \n",
        "        self. ROW = len(graph) \n",
        "        #self.COL = len(gr[0]) \n",
        "          \n",
        "   \n",
        "    '''Returns true if there is a path from source 's' to sink 't' in \n",
        "    residual graph. Also fills parent[] to store the path '''\n",
        "    def BFS(self,s, t, parent): \n",
        "  \n",
        "        # Mark all the vertices as not visited \n",
        "        visited =[False]*(self.ROW) \n",
        "          \n",
        "        # Create a queue for BFS \n",
        "        queue=[] \n",
        "          \n",
        "        # Mark the source node as visited and enqueue it \n",
        "        queue.append(s) \n",
        "        visited[s] = True\n",
        "           \n",
        "         # Standard BFS Loop \n",
        "        while queue: \n",
        "  \n",
        "            #Dequeue a vertex from queue and print it \n",
        "            u = queue.pop(0) \n",
        "          \n",
        "            # Get all adjacent vertices of the dequeued vertex u \n",
        "            # If a adjacent has not been visited, then mark it \n",
        "            # visited and enqueue it \n",
        "            for ind, val in enumerate(self.graph[u]): \n",
        "                if visited[ind] == False and val > 0 : \n",
        "                    queue.append(ind) \n",
        "                    visited[ind] = True\n",
        "                    parent[ind] = u \n",
        "  \n",
        "        # If we reached sink in BFS starting from source, then return \n",
        "        # true, else false \n",
        "        return True if visited[t] else False\n",
        "              \n",
        "      \n",
        "    # Returns tne maximum flow from s to t in the given graph \n",
        "    def FordFulkerson(self, source, sink): \n",
        "  \n",
        "        # This array is filled by BFS and to store path \n",
        "        parent = [-1]*(self.ROW) \n",
        "  \n",
        "        max_flow = 0 # There is no flow initially \n",
        "  \n",
        "        # Augment the flow while there is path from source to sink \n",
        "        while self.BFS(source, sink, parent) : \n",
        "  \n",
        "            # Find minimum residual capacity of the edges along the \n",
        "            # path filled by BFS. Or we can say find the maximum flow \n",
        "            # through the path found. \n",
        "            path_flow = float(\"Inf\") \n",
        "            s = sink \n",
        "            while(s !=  source): \n",
        "                path_flow = min (path_flow, self.graph[parent[s]][s]) \n",
        "                s = parent[s] \n",
        "  \n",
        "            # Add path flow to overall flow \n",
        "            max_flow +=  path_flow \n",
        "  \n",
        "            # update residual capacities of the edges and reverse edges \n",
        "            # along the path \n",
        "            v = sink \n",
        "            while(v !=  source): \n",
        "                u = parent[v] \n",
        "                self.graph[u][v] -= path_flow \n",
        "                self.graph[v][u] += path_flow \n",
        "                v = parent[v] \n",
        "  \n",
        "        return max_flow "
      ],
      "execution_count": null,
      "outputs": []
    },
    {
      "cell_type": "markdown",
      "metadata": {
        "id": "rB5KRgwe7Dk_"
      },
      "source": [
        "# Max Flow Function/Creating the Network\n",
        "\n",
        "To create our network, we first need to establish the columns where we will find our vertices, with which we can identify the directed edges) and the capacities of their connections.\n",
        "- Vertices (Edges)\n",
        "  - Source Airport = `graphDF[\"Source\"]`\n",
        "  - Destination Airport = `graphDF[\"Destination\"]`\n",
        "- Edges\n",
        "  - Plane Capacity = `graphDF[\"MinCapacity\" | \"MaxCapacity\" | \"AvgCapacity\"]`"
      ]
    },
    {
      "cell_type": "code",
      "metadata": {
        "id": "X2YRxTcw1pD2"
      },
      "source": [
        "def maxFlow(routesDF, airlineID=None, sources=['JFK','LGA','EWR'], sinks=['SFO','SJC','OAK','STS'], capEstimate='AvgCapacity'):\n",
        "\n",
        "    if airlineID != None:\n",
        "      routesDF = routesDF[routesDF.AirlineID == airlineID]\n",
        "    \n",
        "    newDF = routesDF[(routesDF['NumStops'] != 1) | ((routesDF['Source'].isin(sources)) & (routesDF['Destination'].isin(sinks)))]\n",
        "\n",
        "    graphDF = newDF.groupby(['Source','Destination'],as_index=False).agg({'MinCapacity': 'sum', 'AvgCapacity': 'sum','MaxCapacity':'sum'})\n",
        "    \n",
        "    graphDF = graphDF[(~graphDF.Destination.isin(sources)) & (~graphDF.Source.isin(sinks)) & ((graphDF.Destination.isin(sinks))|(graphDF.Source.isin(sources)))]\n",
        "\n",
        "    newDF = routesDF[(routesDF['NumStops'] != 1) | ((routesDF['Source'].isin(sources)) & (routesDF['Destination'].isin(sinks)))]\n",
        "\n",
        "    graphDF = newDF.groupby(['Source','Destination'],as_index=False).agg({'MinCapacity': 'sum', 'AvgCapacity': 'sum','MaxCapacity':'sum'})\n",
        "\n",
        "    graphDF = graphDF[(~graphDF.Destination.isin(sources)) & (~graphDF.Source.isin(sinks)) & ((graphDF.Destination.isin(sinks))|(graphDF.Source.isin(sources)))]\n",
        "\n",
        "    #Create empty list to store Edges\n",
        "    edgeList = [] \n",
        "    #Iterate through DataFrame, appending each edge to new list\n",
        "    for index, row in graphDF.iterrows(): \n",
        "        edgeList.append([row['Source'], row['Destination'], int(row[capEstimate])])\n",
        "\n",
        "    for airport in sources:\n",
        "      edgeList.append(['s',airport,np.inf])\n",
        "    for airport in sinks:\n",
        "      edgeList.append([airport,'t',np.inf])\n",
        "\n",
        "    airports = []\n",
        "    for i in edgeList:\n",
        "      for j in i:\n",
        "        if (type(j) == str) and j not in airports:\n",
        "          airports.append(j)\n",
        "    numbers = list(range(len(airports)))\n",
        "    airportDict = dict(zip(airports, numbers))\n",
        "\n",
        "    numEdgeList = []\n",
        "    for i in edgeList:\n",
        "        edge = []\n",
        "        for j in i:\n",
        "            if type(j) == str:\n",
        "                edge.append(airportDict[j])\n",
        "            else:\n",
        "                edge.append(j)\n",
        "        numEdgeList.append(edge)\n",
        "\n",
        "    A = np.zeros((len(airportDict),len(airportDict)), dtype =float)\n",
        "    for i in numEdgeList:\n",
        "        A[i[0]][i[1]] = i[2]\n",
        "\n",
        "    G = Graph(A)\n",
        "    source = airportDict['s']\n",
        "    sink = airportDict['t']\n",
        "\n",
        "    return G.FordFulkerson(source, sink)\n",
        "\n"
      ],
      "execution_count": null,
      "outputs": []
    },
    {
      "cell_type": "markdown",
      "metadata": {
        "id": "JDFXl5HNhU-F"
      },
      "source": [
        "This code chunk gives us the number of people that can be transferred from JFK to SFO (using the average plane capacity per flight). 33372 people can be transported."
      ]
    },
    {
      "cell_type": "code",
      "metadata": {
        "colab": {
          "base_uri": "https://localhost:8080/"
        },
        "id": "EM-I3PFXFDBh",
        "outputId": "3fed3625-45be-4a46-ded8-756e11e79dd4"
      },
      "source": [
        "routesDF[routesDF.Source=='SFO'] # Find Source for San Francisco Airport\n",
        "routesDF[routesDF.Source=='JFK'] # Find Source for John F. Kennedy (NY) Airport\n",
        "\n",
        "# Starting airport JFK and ending in SFO\n",
        "source = ['JFK']\n",
        "sink = ['SFO']\n",
        "\n",
        "maxFlow(routesDF, sources = source, sinks = sink, capEstimate='MaxCapacity') \n",
        "# 33372 people, using average plane capacity for each row, JFK->SFO"
      ],
      "execution_count": null,
      "outputs": [
        {
          "output_type": "execute_result",
          "data": {
            "text/plain": [
              "33372.0"
            ]
          },
          "metadata": {
            "tags": []
          },
          "execution_count": 22
        }
      ]
    },
    {
      "cell_type": "markdown",
      "metadata": {
        "id": "IHjJGqGYDbZO"
      },
      "source": [
        "This code chunk gives us the maximum number of people we can transport using all of the major airports in NY metropolitan area and SF Bay area (and our max plane capacity estimate): 48875."
      ]
    },
    {
      "cell_type": "code",
      "metadata": {
        "colab": {
          "base_uri": "https://localhost:8080/"
        },
        "id": "WfjrTQ-9WgVN",
        "outputId": "bcf5d25c-dad5-4a5f-bc19-79fd8fbf301f"
      },
      "source": [
        "sources=['JFK','LGA','EWR'] # Major airports in NY Metropolitan area\n",
        "sinks=['SFO','OAK','STS','SJC'] # Major airports in SF Bay area\n",
        "\n",
        "maxFlow(routesDF, sources=sources, sinks=sinks, capEstimate='MaxCapacity') \n",
        "# 48875 people using major airports and largest available plane for each route"
      ],
      "execution_count": null,
      "outputs": [
        {
          "output_type": "execute_result",
          "data": {
            "text/plain": [
              "48875.0"
            ]
          },
          "metadata": {
            "tags": []
          },
          "execution_count": 23
        }
      ]
    },
    {
      "cell_type": "markdown",
      "metadata": {
        "id": "t9AnL-5lN27z"
      },
      "source": [
        "# Most Effective Carrier From NY Metropolitan to SF Bay Area"
      ]
    },
    {
      "cell_type": "markdown",
      "metadata": {
        "id": "R23rUspLGhgh"
      },
      "source": [
        "The following code gives us a dataframe of how many people can be transported from NY to SF, using the major airports in each city, for each carrier."
      ]
    },
    {
      "cell_type": "code",
      "metadata": {
        "id": "J9vmwjwdhKtJ",
        "colab": {
          "base_uri": "https://localhost:8080/",
          "height": 204
        },
        "outputId": "0c6052b5-6b6d-4ee7-d83a-8415f59b3476"
      },
      "source": [
        "carriersDF = pd.DataFrame(columns=['AirlineCode','AirlineID','MaxPeopleLowEst',\n",
        "                                   'MaxPeopleAvgEst','MaxPeopleHighEst'])\n",
        "\n",
        "for i in list(routesDF.AirlineID.unique()):\n",
        "\n",
        "  maxPeopleHighEst = maxFlow(routesDF,i,capEstimate='MaxCapacity')\n",
        "  maxPeopleLowEst = maxFlow(routesDF,i,capEstimate='MinCapacity')\n",
        "  maxPeopleAvgEst = maxFlow(routesDF,i,capEstimate='AvgCapacity')\n",
        "  carrier = i\n",
        "  try:\n",
        "    airlineCode = list(routesDF[routesDF['AirlineID']==i]['Airline Code'])[0]\n",
        "  except KeyError:\n",
        "    airlineCode = None\n",
        "\n",
        "  carriersDF = carriersDF.append({'AirlineCode':airlineCode,\n",
        "                                  'AirlineID' : carrier ,\n",
        "                                  'MaxPeopleLowEst' : maxPeopleLowEst,\n",
        "                                  'MaxPeopleAvgEst' : maxPeopleAvgEst,\n",
        "                                  'MaxPeopleHighEst' : maxPeopleHighEst} ,\n",
        "                                  ignore_index=True)\n",
        "\n",
        "carriersDF.head()"
      ],
      "execution_count": null,
      "outputs": [
        {
          "output_type": "execute_result",
          "data": {
            "text/html": [
              "<div>\n",
              "<style scoped>\n",
              "    .dataframe tbody tr th:only-of-type {\n",
              "        vertical-align: middle;\n",
              "    }\n",
              "\n",
              "    .dataframe tbody tr th {\n",
              "        vertical-align: top;\n",
              "    }\n",
              "\n",
              "    .dataframe thead th {\n",
              "        text-align: right;\n",
              "    }\n",
              "</style>\n",
              "<table border=\"1\" class=\"dataframe\">\n",
              "  <thead>\n",
              "    <tr style=\"text-align: right;\">\n",
              "      <th></th>\n",
              "      <th>AirlineCode</th>\n",
              "      <th>AirlineID</th>\n",
              "      <th>MaxPeopleLowEst</th>\n",
              "      <th>MaxPeopleAvgEst</th>\n",
              "      <th>MaxPeopleHighEst</th>\n",
              "    </tr>\n",
              "  </thead>\n",
              "  <tbody>\n",
              "    <tr>\n",
              "      <th>0</th>\n",
              "      <td>2B</td>\n",
              "      <td>410</td>\n",
              "      <td>0</td>\n",
              "      <td>0</td>\n",
              "      <td>0</td>\n",
              "    </tr>\n",
              "    <tr>\n",
              "      <th>1</th>\n",
              "      <td>2G</td>\n",
              "      <td>1654</td>\n",
              "      <td>0</td>\n",
              "      <td>0</td>\n",
              "      <td>0</td>\n",
              "    </tr>\n",
              "    <tr>\n",
              "      <th>2</th>\n",
              "      <td>2I</td>\n",
              "      <td>8359</td>\n",
              "      <td>0</td>\n",
              "      <td>0</td>\n",
              "      <td>0</td>\n",
              "    </tr>\n",
              "    <tr>\n",
              "      <th>3</th>\n",
              "      <td>2J</td>\n",
              "      <td>470</td>\n",
              "      <td>0</td>\n",
              "      <td>0</td>\n",
              "      <td>0</td>\n",
              "    </tr>\n",
              "    <tr>\n",
              "      <th>4</th>\n",
              "      <td>2K</td>\n",
              "      <td>1338</td>\n",
              "      <td>0</td>\n",
              "      <td>0</td>\n",
              "      <td>0</td>\n",
              "    </tr>\n",
              "  </tbody>\n",
              "</table>\n",
              "</div>"
            ],
            "text/plain": [
              "  AirlineCode AirlineID MaxPeopleLowEst MaxPeopleAvgEst MaxPeopleHighEst\n",
              "0          2B       410               0               0                0\n",
              "1          2G      1654               0               0                0\n",
              "2          2I      8359               0               0                0\n",
              "3          2J       470               0               0                0\n",
              "4          2K      1338               0               0                0"
            ]
          },
          "metadata": {
            "tags": []
          },
          "execution_count": 24
        }
      ]
    },
    {
      "cell_type": "markdown",
      "metadata": {
        "id": "Q0c3DkuGH2j3"
      },
      "source": [
        "We can then determine which airline carrier can transport the most people from NY to SF using the carriersDF. The following code shows us that United Airlines can transport the most people. Assuming we use the largest available plane on each flight, they can transport 10250 people from NY to SF."
      ]
    },
    {
      "cell_type": "code",
      "metadata": {
        "id": "RqDVmgHzhOsC",
        "colab": {
          "base_uri": "https://localhost:8080/",
          "height": 35
        },
        "outputId": "08cf9617-822b-40da-85dd-483b75e93949"
      },
      "source": [
        "numPeople = max(list(carriersDF.MaxPeopleHighEst)) # The most effective carrier can transport 10250 people from NY to SF\n",
        "ID = list(carriersDF[carriersDF.MaxPeopleHighEst == numPeople].AirlineID)[0] # The carrierID (AirlineID) is '5209'\n",
        "list(routesDF[routesDF.AirlineID=='5209']['Airline Code'])[0] # Most effective carrier is United Airlines"
      ],
      "execution_count": null,
      "outputs": [
        {
          "output_type": "execute_result",
          "data": {
            "application/vnd.google.colaboratory.intrinsic+json": {
              "type": "string"
            },
            "text/plain": [
              "'UA'"
            ]
          },
          "metadata": {
            "tags": []
          },
          "execution_count": 25
        }
      ]
    },
    {
      "cell_type": "code",
      "metadata": {
        "id": "bp8T0tZrxB3C",
        "colab": {
          "base_uri": "https://localhost:8080/",
          "height": 669
        },
        "outputId": "398ae4e8-c7ff-4916-a9e6-0c4658733070"
      },
      "source": [
        "carriersDF = carriersDF.sort_values(by=['MaxPeopleHighEst'],ascending=False)\n",
        "carriersDF.head(20)"
      ],
      "execution_count": null,
      "outputs": [
        {
          "output_type": "execute_result",
          "data": {
            "text/html": [
              "<div>\n",
              "<style scoped>\n",
              "    .dataframe tbody tr th:only-of-type {\n",
              "        vertical-align: middle;\n",
              "    }\n",
              "\n",
              "    .dataframe tbody tr th {\n",
              "        vertical-align: top;\n",
              "    }\n",
              "\n",
              "    .dataframe thead th {\n",
              "        text-align: right;\n",
              "    }\n",
              "</style>\n",
              "<table border=\"1\" class=\"dataframe\">\n",
              "  <thead>\n",
              "    <tr style=\"text-align: right;\">\n",
              "      <th></th>\n",
              "      <th>AirlineCode</th>\n",
              "      <th>AirlineID</th>\n",
              "      <th>MaxPeopleLowEst</th>\n",
              "      <th>MaxPeopleAvgEst</th>\n",
              "      <th>MaxPeopleHighEst</th>\n",
              "    </tr>\n",
              "  </thead>\n",
              "  <tbody>\n",
              "    <tr>\n",
              "      <th>464</th>\n",
              "      <td>UA</td>\n",
              "      <td>5209</td>\n",
              "      <td>8137</td>\n",
              "      <td>9251</td>\n",
              "      <td>10250</td>\n",
              "    </tr>\n",
              "    <tr>\n",
              "      <th>153</th>\n",
              "      <td>DL</td>\n",
              "      <td>2009</td>\n",
              "      <td>2939</td>\n",
              "      <td>3371</td>\n",
              "      <td>3870</td>\n",
              "    </tr>\n",
              "    <tr>\n",
              "      <th>89</th>\n",
              "      <td>AA</td>\n",
              "      <td>24</td>\n",
              "      <td>3062</td>\n",
              "      <td>3226</td>\n",
              "      <td>3433</td>\n",
              "    </tr>\n",
              "    <tr>\n",
              "      <th>475</th>\n",
              "      <td>US</td>\n",
              "      <td>5265</td>\n",
              "      <td>2460</td>\n",
              "      <td>2601</td>\n",
              "      <td>2779</td>\n",
              "    </tr>\n",
              "    <tr>\n",
              "      <th>110</th>\n",
              "      <td>B6</td>\n",
              "      <td>3029</td>\n",
              "      <td>1492</td>\n",
              "      <td>1518</td>\n",
              "      <td>1544</td>\n",
              "    </tr>\n",
              "    <tr>\n",
              "      <th>292</th>\n",
              "      <td>LH</td>\n",
              "      <td>3320</td>\n",
              "      <td>966</td>\n",
              "      <td>1109</td>\n",
              "      <td>1232</td>\n",
              "    </tr>\n",
              "    <tr>\n",
              "      <th>507</th>\n",
              "      <td>WN</td>\n",
              "      <td>4547</td>\n",
              "      <td>1134</td>\n",
              "      <td>1152</td>\n",
              "      <td>1170</td>\n",
              "    </tr>\n",
              "    <tr>\n",
              "      <th>278</th>\n",
              "      <td>KL</td>\n",
              "      <td>3090</td>\n",
              "      <td>606</td>\n",
              "      <td>691</td>\n",
              "      <td>847</td>\n",
              "    </tr>\n",
              "    <tr>\n",
              "      <th>95</th>\n",
              "      <td>AF</td>\n",
              "      <td>137</td>\n",
              "      <td>471</td>\n",
              "      <td>597</td>\n",
              "      <td>824</td>\n",
              "    </tr>\n",
              "    <tr>\n",
              "      <th>495</th>\n",
              "      <td>VX</td>\n",
              "      <td>5331</td>\n",
              "      <td>698</td>\n",
              "      <td>724</td>\n",
              "      <td>750</td>\n",
              "    </tr>\n",
              "    <tr>\n",
              "      <th>102</th>\n",
              "      <td>AS</td>\n",
              "      <td>439</td>\n",
              "      <td>605</td>\n",
              "      <td>662</td>\n",
              "      <td>718</td>\n",
              "    </tr>\n",
              "    <tr>\n",
              "      <th>492</th>\n",
              "      <td>VS</td>\n",
              "      <td>5347</td>\n",
              "      <td>646</td>\n",
              "      <td>694</td>\n",
              "      <td>718</td>\n",
              "    </tr>\n",
              "    <tr>\n",
              "      <th>133</th>\n",
              "      <td>CA</td>\n",
              "      <td>751</td>\n",
              "      <td>691</td>\n",
              "      <td>691</td>\n",
              "      <td>691</td>\n",
              "    </tr>\n",
              "    <tr>\n",
              "      <th>327</th>\n",
              "      <td>NH</td>\n",
              "      <td>324</td>\n",
              "      <td>638</td>\n",
              "      <td>638</td>\n",
              "      <td>638</td>\n",
              "    </tr>\n",
              "    <tr>\n",
              "      <th>107</th>\n",
              "      <td>AZ</td>\n",
              "      <td>596</td>\n",
              "      <td>293</td>\n",
              "      <td>388</td>\n",
              "      <td>555</td>\n",
              "    </tr>\n",
              "    <tr>\n",
              "      <th>92</th>\n",
              "      <td>AC</td>\n",
              "      <td>330</td>\n",
              "      <td>512</td>\n",
              "      <td>538</td>\n",
              "      <td>538</td>\n",
              "    </tr>\n",
              "    <tr>\n",
              "      <th>215</th>\n",
              "      <td>HA</td>\n",
              "      <td>2688</td>\n",
              "      <td>443</td>\n",
              "      <td>443</td>\n",
              "      <td>443</td>\n",
              "    </tr>\n",
              "    <tr>\n",
              "      <th>141</th>\n",
              "      <td>CX</td>\n",
              "      <td>1680</td>\n",
              "      <td>396</td>\n",
              "      <td>406</td>\n",
              "      <td>416</td>\n",
              "    </tr>\n",
              "    <tr>\n",
              "      <th>113</th>\n",
              "      <td>BA</td>\n",
              "      <td>1355</td>\n",
              "      <td>416</td>\n",
              "      <td>416</td>\n",
              "      <td>416</td>\n",
              "    </tr>\n",
              "    <tr>\n",
              "      <th>106</th>\n",
              "      <td>AY</td>\n",
              "      <td>2350</td>\n",
              "      <td>416</td>\n",
              "      <td>416</td>\n",
              "      <td>416</td>\n",
              "    </tr>\n",
              "  </tbody>\n",
              "</table>\n",
              "</div>"
            ],
            "text/plain": [
              "    AirlineCode AirlineID MaxPeopleLowEst MaxPeopleAvgEst MaxPeopleHighEst\n",
              "464          UA      5209            8137            9251            10250\n",
              "153          DL      2009            2939            3371             3870\n",
              "89           AA        24            3062            3226             3433\n",
              "475          US      5265            2460            2601             2779\n",
              "110          B6      3029            1492            1518             1544\n",
              "292          LH      3320             966            1109             1232\n",
              "507          WN      4547            1134            1152             1170\n",
              "278          KL      3090             606             691              847\n",
              "95           AF       137             471             597              824\n",
              "495          VX      5331             698             724              750\n",
              "102          AS       439             605             662              718\n",
              "492          VS      5347             646             694              718\n",
              "133          CA       751             691             691              691\n",
              "327          NH       324             638             638              638\n",
              "107          AZ       596             293             388              555\n",
              "92           AC       330             512             538              538\n",
              "215          HA      2688             443             443              443\n",
              "141          CX      1680             396             406              416\n",
              "113          BA      1355             416             416              416\n",
              "106          AY      2350             416             416              416"
            ]
          },
          "metadata": {
            "tags": []
          },
          "execution_count": 26
        }
      ]
    },
    {
      "cell_type": "markdown",
      "metadata": {
        "id": "dHf5K_bmZU16"
      },
      "source": [
        "# maxFlowCity\n",
        "### A function to find the max number of people that can be transported by user's start/end city input"
      ]
    },
    {
      "cell_type": "code",
      "metadata": {
        "id": "JL_Hhn6sXflt"
      },
      "source": [
        "def maxFlowCity(routesDF, airlineID=None, startCity='New York', endCity='San Francisco', capEstimate='AvgCapacity'):\n",
        "    \n",
        "    sources = srcsDict[startCity]\n",
        "    sinks = srcsDict[endCity]\n",
        "\n",
        "    if airlineID != None:\n",
        "      routesDF = routesDF[routesDF.AirlineID == airlineID]\n",
        "    \n",
        "    newDF = routesDF[(routesDF['NumStops'] != 1) | ((routesDF['Source'].isin(sources)) & (routesDF['Destination'].isin(sinks)))]\n",
        "\n",
        "    graphDF = newDF.groupby(['Source','Destination'],as_index=False).agg({'MinCapacity': 'sum', 'AvgCapacity': 'sum','MaxCapacity':'sum'})\n",
        "    \n",
        "    graphDF = graphDF[(~graphDF.Destination.isin(sources)) & (~graphDF.Source.isin(sinks)) & ((graphDF.Destination.isin(sinks))|(graphDF.Source.isin(sources)))]\n",
        "\n",
        "    newDF = routesDF[(routesDF['NumStops'] != 1) | ((routesDF['Source'].isin(sources)) & (routesDF['Destination'].isin(sinks)))]\n",
        "\n",
        "    graphDF = newDF.groupby(['Source','Destination'],as_index=False).agg({'MinCapacity': 'sum', 'AvgCapacity': 'sum','MaxCapacity':'sum'})\n",
        "\n",
        "    graphDF = graphDF[(~graphDF.Destination.isin(sources)) & (~graphDF.Source.isin(sinks)) & ((graphDF.Destination.isin(sinks))|(graphDF.Source.isin(sources)))]\n",
        "\n",
        "    edgeList = []\n",
        "    for index, row in graphDF.iterrows():\n",
        "        edgeList.append([row['Source'], row['Destination'], int(row[capEstimate])])\n",
        "\n",
        "    for airport in sources:\n",
        "      edgeList.append(['s',airport,np.inf])\n",
        "    for airport in sinks:\n",
        "      edgeList.append([airport,'t',np.inf])\n",
        "\n",
        "    airports = []\n",
        "    for i in edgeList:\n",
        "      for j in i:\n",
        "        if (type(j) == str) and j not in airports:\n",
        "          airports.append(j)\n",
        "    numbers = list(range(len(airports)))\n",
        "    airportDict = dict(zip(airports, numbers))\n",
        "\n",
        "    numEdgeList = []\n",
        "    for i in edgeList:\n",
        "        edge = []\n",
        "        for j in i:\n",
        "            if type(j) == str:\n",
        "                edge.append(airportDict[j])\n",
        "            else:\n",
        "                edge.append(j)\n",
        "        numEdgeList.append(edge)\n",
        "\n",
        "    A = np.zeros((len(airportDict),len(airportDict)), dtype =float)\n",
        "    for i in numEdgeList:\n",
        "        A[i[0]][i[1]] = i[2]\n",
        "\n",
        "    G = Graph(A)\n",
        "    source = airportDict['s']\n",
        "    sink = airportDict['t']\n",
        "\n",
        "    return G.FordFulkerson(source, sink)\n",
        "\n"
      ],
      "execution_count": null,
      "outputs": []
    },
    {
      "cell_type": "markdown",
      "metadata": {
        "id": "Aqy8HkuuZsxc"
      },
      "source": [
        "### Example of start-city Tampa and end-city Burlington\n",
        "1062 people can be transported using our max-plane-capacity-per-route estimate, and all airline carriers.\n"
      ]
    },
    {
      "cell_type": "code",
      "metadata": {
        "colab": {
          "base_uri": "https://localhost:8080/"
        },
        "id": "uaq2aTVRXv_6",
        "outputId": "1d8c5153-6da3-4122-c5a4-b0bb1761e721"
      },
      "source": [
        "maxFlowCity(routesDF,startCity='Tampa',endCity='Burlington',capEstimate='MaxCapacity')"
      ],
      "execution_count": null,
      "outputs": [
        {
          "output_type": "execute_result",
          "data": {
            "text/plain": [
              "1062.0"
            ]
          },
          "metadata": {
            "tags": []
          },
          "execution_count": 28
        }
      ]
    },
    {
      "cell_type": "markdown",
      "metadata": {
        "id": "C6hDXchCj9a_"
      },
      "source": [
        "## Estimates Using City Labels"
      ]
    },
    {
      "cell_type": "markdown",
      "metadata": {
        "id": "JLdbXK7VgN13"
      },
      "source": [
        "We can use maxFlowCity to calculate estimates of the number of people we can transport to SF from NY, using the airports listed in those cities (as opposed to our previous solution, which used airports in the NY metropolitan area and SF Bay Area). 36805 people can be transported using this model."
      ]
    },
    {
      "cell_type": "code",
      "metadata": {
        "colab": {
          "base_uri": "https://localhost:8080/"
        },
        "id": "YNtZ6CWQYFq8",
        "outputId": "358aabf4-a22f-4426-a7b7-6add2217f45b"
      },
      "source": [
        "maxFlowCity(routesDF, startCity='New York', endCity='San Francisco', capEstimate='MaxCapacity') "
      ],
      "execution_count": null,
      "outputs": [
        {
          "output_type": "execute_result",
          "data": {
            "text/plain": [
              "36805.0"
            ]
          },
          "metadata": {
            "tags": []
          },
          "execution_count": 29
        }
      ]
    },
    {
      "cell_type": "markdown",
      "metadata": {
        "id": "ys6Z_yGCkIho"
      },
      "source": [
        "### Most Effective Airline Using City Labels"
      ]
    },
    {
      "cell_type": "code",
      "metadata": {
        "id": "T0M25HGcXvkF",
        "colab": {
          "base_uri": "https://localhost:8080/",
          "height": 204
        },
        "outputId": "f74ba151-815a-409b-cc5b-2f8dd1348716"
      },
      "source": [
        "carriersDF = pd.DataFrame(columns=['AirlineCode','AirlineID','MaxPeopleLowEst',\n",
        "                                   'MaxPeopleAvgEst','MaxPeopleHighEst'])\n",
        "\n",
        "for i in list(routesDF.AirlineID.unique()):\n",
        "\n",
        "  maxPeopleHighEst = maxFlowCity(routesDF,i,startCity='New York',\n",
        "                                 endCity='San Francisco',capEstimate='MaxCapacity')\n",
        "  maxPeopleLowEst = maxFlowCity(routesDF,i,startCity='New York',\n",
        "                                endCity='San Francisco',capEstimate='MinCapacity')\n",
        "  maxPeopleAvgEst = maxFlowCity(routesDF,i,startCity='New York',\n",
        "                                endCity='San Francisco',capEstimate='AvgCapacity')\n",
        "  carrier = i\n",
        "  try:\n",
        "    airlineCode = list(routesDF[routesDF['AirlineID']==i]['Airline Code'])[0]\n",
        "  except KeyError:\n",
        "    airlineCode = None\n",
        "\n",
        "  carriersDF = carriersDF.append({'AirlineCode':airlineCode, 'AirlineID' : carrier ,\n",
        "                                  'MaxPeopleLowEst' : maxPeopleLowEst,\n",
        "                                  'MaxPeopleAvgEst' : maxPeopleAvgEst,\n",
        "                                  'MaxPeopleHighEst' : maxPeopleHighEst} ,\n",
        "                                  ignore_index=True)\n",
        "\n",
        "carriersDF.head()"
      ],
      "execution_count": null,
      "outputs": [
        {
          "output_type": "execute_result",
          "data": {
            "text/html": [
              "<div>\n",
              "<style scoped>\n",
              "    .dataframe tbody tr th:only-of-type {\n",
              "        vertical-align: middle;\n",
              "    }\n",
              "\n",
              "    .dataframe tbody tr th {\n",
              "        vertical-align: top;\n",
              "    }\n",
              "\n",
              "    .dataframe thead th {\n",
              "        text-align: right;\n",
              "    }\n",
              "</style>\n",
              "<table border=\"1\" class=\"dataframe\">\n",
              "  <thead>\n",
              "    <tr style=\"text-align: right;\">\n",
              "      <th></th>\n",
              "      <th>AirlineCode</th>\n",
              "      <th>AirlineID</th>\n",
              "      <th>MaxPeopleLowEst</th>\n",
              "      <th>MaxPeopleAvgEst</th>\n",
              "      <th>MaxPeopleHighEst</th>\n",
              "    </tr>\n",
              "  </thead>\n",
              "  <tbody>\n",
              "    <tr>\n",
              "      <th>0</th>\n",
              "      <td>2B</td>\n",
              "      <td>410</td>\n",
              "      <td>0</td>\n",
              "      <td>0</td>\n",
              "      <td>0</td>\n",
              "    </tr>\n",
              "    <tr>\n",
              "      <th>1</th>\n",
              "      <td>2G</td>\n",
              "      <td>1654</td>\n",
              "      <td>0</td>\n",
              "      <td>0</td>\n",
              "      <td>0</td>\n",
              "    </tr>\n",
              "    <tr>\n",
              "      <th>2</th>\n",
              "      <td>2I</td>\n",
              "      <td>8359</td>\n",
              "      <td>0</td>\n",
              "      <td>0</td>\n",
              "      <td>0</td>\n",
              "    </tr>\n",
              "    <tr>\n",
              "      <th>3</th>\n",
              "      <td>2J</td>\n",
              "      <td>470</td>\n",
              "      <td>0</td>\n",
              "      <td>0</td>\n",
              "      <td>0</td>\n",
              "    </tr>\n",
              "    <tr>\n",
              "      <th>4</th>\n",
              "      <td>2K</td>\n",
              "      <td>1338</td>\n",
              "      <td>0</td>\n",
              "      <td>0</td>\n",
              "      <td>0</td>\n",
              "    </tr>\n",
              "  </tbody>\n",
              "</table>\n",
              "</div>"
            ],
            "text/plain": [
              "  AirlineCode AirlineID MaxPeopleLowEst MaxPeopleAvgEst MaxPeopleHighEst\n",
              "0          2B       410               0               0                0\n",
              "1          2G      1654               0               0                0\n",
              "2          2I      8359               0               0                0\n",
              "3          2J       470               0               0                0\n",
              "4          2K      1338               0               0                0"
            ]
          },
          "metadata": {
            "tags": []
          },
          "execution_count": 30
        }
      ]
    },
    {
      "cell_type": "markdown",
      "metadata": {
        "id": "nHM1bmK-kTrG"
      },
      "source": [
        "We can see that United Airlines is still the most effective at transporting people from NY to SF, even when we confine the starting and ending airports to just ones listed in those cities."
      ]
    },
    {
      "cell_type": "code",
      "metadata": {
        "colab": {
          "base_uri": "https://localhost:8080/",
          "height": 669
        },
        "id": "3L0qFgLjj0Kl",
        "outputId": "b9b32fea-42f4-4cf0-d3a5-b04d3a80c06b"
      },
      "source": [
        "carriersDF = carriersDF.sort_values(by=['MaxPeopleHighEst'],ascending=False)\n",
        "carriersDF.head(20)"
      ],
      "execution_count": null,
      "outputs": [
        {
          "output_type": "execute_result",
          "data": {
            "text/html": [
              "<div>\n",
              "<style scoped>\n",
              "    .dataframe tbody tr th:only-of-type {\n",
              "        vertical-align: middle;\n",
              "    }\n",
              "\n",
              "    .dataframe tbody tr th {\n",
              "        vertical-align: top;\n",
              "    }\n",
              "\n",
              "    .dataframe thead th {\n",
              "        text-align: right;\n",
              "    }\n",
              "</style>\n",
              "<table border=\"1\" class=\"dataframe\">\n",
              "  <thead>\n",
              "    <tr style=\"text-align: right;\">\n",
              "      <th></th>\n",
              "      <th>AirlineCode</th>\n",
              "      <th>AirlineID</th>\n",
              "      <th>MaxPeopleLowEst</th>\n",
              "      <th>MaxPeopleAvgEst</th>\n",
              "      <th>MaxPeopleHighEst</th>\n",
              "    </tr>\n",
              "  </thead>\n",
              "  <tbody>\n",
              "    <tr>\n",
              "      <th>464</th>\n",
              "      <td>UA</td>\n",
              "      <td>5209</td>\n",
              "      <td>3299</td>\n",
              "      <td>3530</td>\n",
              "      <td>3674</td>\n",
              "    </tr>\n",
              "    <tr>\n",
              "      <th>153</th>\n",
              "      <td>DL</td>\n",
              "      <td>2009</td>\n",
              "      <td>2118</td>\n",
              "      <td>2570</td>\n",
              "      <td>3096</td>\n",
              "    </tr>\n",
              "    <tr>\n",
              "      <th>89</th>\n",
              "      <td>AA</td>\n",
              "      <td>24</td>\n",
              "      <td>2095</td>\n",
              "      <td>2293</td>\n",
              "      <td>2535</td>\n",
              "    </tr>\n",
              "    <tr>\n",
              "      <th>475</th>\n",
              "      <td>US</td>\n",
              "      <td>5265</td>\n",
              "      <td>1836</td>\n",
              "      <td>1974</td>\n",
              "      <td>2163</td>\n",
              "    </tr>\n",
              "    <tr>\n",
              "      <th>110</th>\n",
              "      <td>B6</td>\n",
              "      <td>3029</td>\n",
              "      <td>1094</td>\n",
              "      <td>1120</td>\n",
              "      <td>1146</td>\n",
              "    </tr>\n",
              "    <tr>\n",
              "      <th>292</th>\n",
              "      <td>LH</td>\n",
              "      <td>3320</td>\n",
              "      <td>751</td>\n",
              "      <td>821</td>\n",
              "      <td>890</td>\n",
              "    </tr>\n",
              "    <tr>\n",
              "      <th>95</th>\n",
              "      <td>AF</td>\n",
              "      <td>137</td>\n",
              "      <td>470</td>\n",
              "      <td>596</td>\n",
              "      <td>824</td>\n",
              "    </tr>\n",
              "    <tr>\n",
              "      <th>278</th>\n",
              "      <td>KL</td>\n",
              "      <td>3090</td>\n",
              "      <td>443</td>\n",
              "      <td>528</td>\n",
              "      <td>685</td>\n",
              "    </tr>\n",
              "    <tr>\n",
              "      <th>492</th>\n",
              "      <td>VS</td>\n",
              "      <td>5347</td>\n",
              "      <td>459</td>\n",
              "      <td>537</td>\n",
              "      <td>594</td>\n",
              "    </tr>\n",
              "    <tr>\n",
              "      <th>102</th>\n",
              "      <td>AS</td>\n",
              "      <td>439</td>\n",
              "      <td>349</td>\n",
              "      <td>512</td>\n",
              "      <td>593</td>\n",
              "    </tr>\n",
              "    <tr>\n",
              "      <th>107</th>\n",
              "      <td>AZ</td>\n",
              "      <td>596</td>\n",
              "      <td>293</td>\n",
              "      <td>388</td>\n",
              "      <td>555</td>\n",
              "    </tr>\n",
              "    <tr>\n",
              "      <th>507</th>\n",
              "      <td>WN</td>\n",
              "      <td>4547</td>\n",
              "      <td>504</td>\n",
              "      <td>504</td>\n",
              "      <td>504</td>\n",
              "    </tr>\n",
              "    <tr>\n",
              "      <th>495</th>\n",
              "      <td>VX</td>\n",
              "      <td>5331</td>\n",
              "      <td>398</td>\n",
              "      <td>424</td>\n",
              "      <td>450</td>\n",
              "    </tr>\n",
              "    <tr>\n",
              "      <th>215</th>\n",
              "      <td>HA</td>\n",
              "      <td>2688</td>\n",
              "      <td>443</td>\n",
              "      <td>443</td>\n",
              "      <td>443</td>\n",
              "    </tr>\n",
              "    <tr>\n",
              "      <th>106</th>\n",
              "      <td>AY</td>\n",
              "      <td>2350</td>\n",
              "      <td>305</td>\n",
              "      <td>372</td>\n",
              "      <td>416</td>\n",
              "    </tr>\n",
              "    <tr>\n",
              "      <th>236</th>\n",
              "      <td>IB</td>\n",
              "      <td>2822</td>\n",
              "      <td>305</td>\n",
              "      <td>372</td>\n",
              "      <td>416</td>\n",
              "    </tr>\n",
              "    <tr>\n",
              "      <th>113</th>\n",
              "      <td>BA</td>\n",
              "      <td>1355</td>\n",
              "      <td>305</td>\n",
              "      <td>360</td>\n",
              "      <td>416</td>\n",
              "    </tr>\n",
              "    <tr>\n",
              "      <th>126</th>\n",
              "      <td>BR</td>\n",
              "      <td>2091</td>\n",
              "      <td>396</td>\n",
              "      <td>396</td>\n",
              "      <td>396</td>\n",
              "    </tr>\n",
              "    <tr>\n",
              "      <th>276</th>\n",
              "      <td>KE</td>\n",
              "      <td>3163</td>\n",
              "      <td>368</td>\n",
              "      <td>382</td>\n",
              "      <td>396</td>\n",
              "    </tr>\n",
              "    <tr>\n",
              "      <th>141</th>\n",
              "      <td>CX</td>\n",
              "      <td>1680</td>\n",
              "      <td>396</td>\n",
              "      <td>396</td>\n",
              "      <td>396</td>\n",
              "    </tr>\n",
              "  </tbody>\n",
              "</table>\n",
              "</div>"
            ],
            "text/plain": [
              "    AirlineCode AirlineID MaxPeopleLowEst MaxPeopleAvgEst MaxPeopleHighEst\n",
              "464          UA      5209            3299            3530             3674\n",
              "153          DL      2009            2118            2570             3096\n",
              "89           AA        24            2095            2293             2535\n",
              "475          US      5265            1836            1974             2163\n",
              "110          B6      3029            1094            1120             1146\n",
              "292          LH      3320             751             821              890\n",
              "95           AF       137             470             596              824\n",
              "278          KL      3090             443             528              685\n",
              "492          VS      5347             459             537              594\n",
              "102          AS       439             349             512              593\n",
              "107          AZ       596             293             388              555\n",
              "507          WN      4547             504             504              504\n",
              "495          VX      5331             398             424              450\n",
              "215          HA      2688             443             443              443\n",
              "106          AY      2350             305             372              416\n",
              "236          IB      2822             305             372              416\n",
              "113          BA      1355             305             360              416\n",
              "126          BR      2091             396             396              396\n",
              "276          KE      3163             368             382              396\n",
              "141          CX      1680             396             396              396"
            ]
          },
          "metadata": {
            "tags": []
          },
          "execution_count": 31
        }
      ]
    },
    {
      "cell_type": "markdown",
      "metadata": {
        "id": "S3lCLWg-6_AI"
      },
      "source": [
        "### Validation Flow Algorithm Works"
      ]
    },
    {
      "cell_type": "code",
      "metadata": {
        "colab": {
          "base_uri": "https://localhost:8080/"
        },
        "id": "dgqKn8W_6uJe",
        "outputId": "efc59a6a-647c-4f15-d35b-6e1c1c180059"
      },
      "source": [
        "graph = [[0, 16, 13, 0, 0, 0], \n",
        "        [0, 0, 10, 12, 0, 0], \n",
        "        [0, 4, 0, 0, 14, 0], \n",
        "        [0, 0, 9, 0, 0, 20], \n",
        "        [0, 0, 0, 7, 0, 4], \n",
        "        [0, 0, 0, 0, 0, 0]] \n",
        "  \n",
        "g = Graph(graph) \n",
        "  \n",
        "source = 0; sink = 5\n",
        "   \n",
        "print (\"The maximum possible flow is %d \" % g.FordFulkerson(source, sink)) "
      ],
      "execution_count": null,
      "outputs": [
        {
          "output_type": "stream",
          "text": [
            "The maximum possible flow is 23 \n"
          ],
          "name": "stdout"
        }
      ]
    },
    {
      "cell_type": "code",
      "metadata": {
        "colab": {
          "base_uri": "https://localhost:8080/"
        },
        "id": "yAn3HCCtxXM7",
        "outputId": "623b3024-72f5-49a7-f4ac-71a71ec78b5e"
      },
      "source": [
        "G = nx.DiGraph()\n",
        "\n",
        "newDF = routesDF[(routesDF['NumStops'] != 1) | ((routesDF['SourceID']=='3797') & (routesDF['DestinationID']=='3469'))]\n",
        "\n",
        "graphDF = newDF.groupby(['SourceID','DestinationID'],as_index=False).agg({'MinCapacity': 'sum', 'AvgCapacity': 'sum','MaxCapacity':'sum'})\n",
        "\n",
        "# Starting airport JFK and ending in SFO\n",
        "for i in range(len(graphDF.index)):\n",
        "  if graphDF.DestinationID[i]!='3797' and graphDF.SourceID[i]!='3469' and (graphDF.DestinationID[i]=='3469' or graphDF.SourceID[i]=='3797'):\n",
        "    G.add_edge(graphDF.SourceID[i], graphDF.DestinationID[i], capacity=graphDF.AvgCapacity[i])\n",
        "\n",
        "nx.maximum_flow_value(G, \"3797\", \"3469\")"
      ],
      "execution_count": null,
      "outputs": [
        {
          "output_type": "execute_result",
          "data": {
            "text/plain": [
              "31432.0"
            ]
          },
          "metadata": {
            "tags": []
          },
          "execution_count": 33
        }
      ]
    }
  ]
}
